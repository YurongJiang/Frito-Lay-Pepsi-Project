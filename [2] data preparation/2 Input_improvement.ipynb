{
 "cells": [
  {
   "cell_type": "markdown",
   "metadata": {},
   "source": [
    "# Improvement"
   ]
  },
  {
   "cell_type": "code",
   "execution_count": 1,
   "metadata": {},
   "outputs": [],
   "source": [
    "import pandas as pd\n",
    "import numpy as np"
   ]
  },
  {
   "cell_type": "code",
   "execution_count": 2,
   "metadata": {},
   "outputs": [],
   "source": [
    "df = pd.read_csv('simple_input.csv')"
   ]
  },
  {
   "cell_type": "code",
   "execution_count": 3,
   "metadata": {},
   "outputs": [
    {
     "data": {
      "text/plain": [
       "117"
      ]
     },
     "execution_count": 3,
     "metadata": {},
     "output_type": "execute_result"
    }
   ],
   "source": [
    "df[df[\"platform_capacity\"]>0.95]['BDC'].count()\n",
    "# For platforms over 95\\% capacity, you should add another percentage of cost (or reduce the margins by another percent)"
   ]
  },
  {
   "cell_type": "code",
   "execution_count": 4,
   "metadata": {},
   "outputs": [],
   "source": [
    "df['pc_0.95'] = np.where(df[\"platform_capacity\"]>0.95, 1, 0)\n",
    "# creat binary variable for platform capacity"
   ]
  },
  {
   "cell_type": "code",
   "execution_count": 5,
   "metadata": {},
   "outputs": [
    {
     "data": {
      "text/html": [
       "<div>\n",
       "<style scoped>\n",
       "    .dataframe tbody tr th:only-of-type {\n",
       "        vertical-align: middle;\n",
       "    }\n",
       "\n",
       "    .dataframe tbody tr th {\n",
       "        vertical-align: top;\n",
       "    }\n",
       "\n",
       "    .dataframe thead th {\n",
       "        text-align: right;\n",
       "    }\n",
       "</style>\n",
       "<table border=\"1\" class=\"dataframe\">\n",
       "  <thead>\n",
       "    <tr style=\"text-align: right;\">\n",
       "      <th></th>\n",
       "      <th>BDC</th>\n",
       "      <th>sales</th>\n",
       "      <th>returns</th>\n",
       "      <th>estimated_margins</th>\n",
       "      <th>platform_capacity</th>\n",
       "      <th>total_distribution_cost</th>\n",
       "      <th>profit</th>\n",
       "      <th>pc_0.95</th>\n",
       "    </tr>\n",
       "  </thead>\n",
       "  <tbody>\n",
       "    <tr>\n",
       "      <th>0</th>\n",
       "      <td>1005006</td>\n",
       "      <td>162664.580</td>\n",
       "      <td>718.5400</td>\n",
       "      <td>0.15</td>\n",
       "      <td>0.857131</td>\n",
       "      <td>7843.433142</td>\n",
       "      <td>23115.39103</td>\n",
       "      <td>0</td>\n",
       "    </tr>\n",
       "    <tr>\n",
       "      <th>1</th>\n",
       "      <td>1005011</td>\n",
       "      <td>321341.300</td>\n",
       "      <td>2232.5800</td>\n",
       "      <td>0.15</td>\n",
       "      <td>0.857131</td>\n",
       "      <td>10384.414720</td>\n",
       "      <td>46308.64579</td>\n",
       "      <td>0</td>\n",
       "    </tr>\n",
       "    <tr>\n",
       "      <th>2</th>\n",
       "      <td>1005182</td>\n",
       "      <td>959710.440</td>\n",
       "      <td>6415.8000</td>\n",
       "      <td>0.15</td>\n",
       "      <td>0.850000</td>\n",
       "      <td>47031.933310</td>\n",
       "      <td>135939.40600</td>\n",
       "      <td>0</td>\n",
       "    </tr>\n",
       "    <tr>\n",
       "      <th>3</th>\n",
       "      <td>1015002</td>\n",
       "      <td>1822491.590</td>\n",
       "      <td>43770.2240</td>\n",
       "      <td>0.15</td>\n",
       "      <td>0.857131</td>\n",
       "      <td>188365.420300</td>\n",
       "      <td>238553.39190</td>\n",
       "      <td>0</td>\n",
       "    </tr>\n",
       "    <tr>\n",
       "      <th>4</th>\n",
       "      <td>1015006</td>\n",
       "      <td>5849902.955</td>\n",
       "      <td>39287.3564</td>\n",
       "      <td>0.15</td>\n",
       "      <td>0.857131</td>\n",
       "      <td>228709.662200</td>\n",
       "      <td>837285.89040</td>\n",
       "      <td>0</td>\n",
       "    </tr>\n",
       "  </tbody>\n",
       "</table>\n",
       "</div>"
      ],
      "text/plain": [
       "       BDC        sales     returns  estimated_margins  platform_capacity  \\\n",
       "0  1005006   162664.580    718.5400               0.15           0.857131   \n",
       "1  1005011   321341.300   2232.5800               0.15           0.857131   \n",
       "2  1005182   959710.440   6415.8000               0.15           0.850000   \n",
       "3  1015002  1822491.590  43770.2240               0.15           0.857131   \n",
       "4  1015006  5849902.955  39287.3564               0.15           0.857131   \n",
       "\n",
       "   total_distribution_cost        profit  pc_0.95  \n",
       "0              7843.433142   23115.39103        0  \n",
       "1             10384.414720   46308.64579        0  \n",
       "2             47031.933310  135939.40600        0  \n",
       "3            188365.420300  238553.39190        0  \n",
       "4            228709.662200  837285.89040        0  "
      ]
     },
     "execution_count": 5,
     "metadata": {},
     "output_type": "execute_result"
    }
   ],
   "source": [
    "df.head()"
   ]
  },
  {
   "cell_type": "markdown",
   "metadata": {},
   "source": [
    "## Innovation/Seasonal product"
   ]
  },
  {
   "cell_type": "code",
   "execution_count": 6,
   "metadata": {},
   "outputs": [],
   "source": [
    "innovation = pd.read_csv('percent_of_stores_carrying_by_region.csv')\n",
    "# Overview: A rough estimate of what percentage of stores in each region carries each product in 2018."
   ]
  },
  {
   "cell_type": "code",
   "execution_count": 7,
   "metadata": {},
   "outputs": [],
   "source": [
    "sw_inno = innovation[innovation['region']=='Southwest']"
   ]
  },
  {
   "cell_type": "code",
   "execution_count": 8,
   "metadata": {},
   "outputs": [
    {
     "data": {
      "text/html": [
       "<div>\n",
       "<style scoped>\n",
       "    .dataframe tbody tr th:only-of-type {\n",
       "        vertical-align: middle;\n",
       "    }\n",
       "\n",
       "    .dataframe tbody tr th {\n",
       "        vertical-align: top;\n",
       "    }\n",
       "\n",
       "    .dataframe thead th {\n",
       "        text-align: right;\n",
       "    }\n",
       "</style>\n",
       "<table border=\"1\" class=\"dataframe\">\n",
       "  <thead>\n",
       "    <tr style=\"text-align: right;\">\n",
       "      <th></th>\n",
       "      <th>region</th>\n",
       "      <th>description</th>\n",
       "      <th>BDC</th>\n",
       "      <th>strategy</th>\n",
       "      <th>pct_stores_carrying</th>\n",
       "    </tr>\n",
       "  </thead>\n",
       "  <tbody>\n",
       "    <tr>\n",
       "      <th>7299</th>\n",
       "      <td>Southwest</td>\n",
       "      <td>Bulk Tostito 16.0</td>\n",
       "      <td>20050016.0</td>\n",
       "      <td>Region Option</td>\n",
       "      <td>NaN</td>\n",
       "    </tr>\n",
       "    <tr>\n",
       "      <th>7300</th>\n",
       "      <td>Southwest</td>\n",
       "      <td>Flush Items</td>\n",
       "      <td>98001001.0</td>\n",
       "      <td>Region Option</td>\n",
       "      <td>0.009259</td>\n",
       "    </tr>\n",
       "    <tr>\n",
       "      <th>7301</th>\n",
       "      <td>Southwest</td>\n",
       "      <td>Food/Service Unflav Ruffles</td>\n",
       "      <td>12050011.0</td>\n",
       "      <td>Region Option</td>\n",
       "      <td>NaN</td>\n",
       "    </tr>\n",
       "    <tr>\n",
       "      <th>7302</th>\n",
       "      <td>Southwest</td>\n",
       "      <td>LSS Cheddar &amp; SC Ruffles</td>\n",
       "      <td>12010045.0</td>\n",
       "      <td>Region Option</td>\n",
       "      <td>NaN</td>\n",
       "    </tr>\n",
       "    <tr>\n",
       "      <th>7303</th>\n",
       "      <td>Southwest</td>\n",
       "      <td>LSS Onion Maui Style Chip</td>\n",
       "      <td>30010017.0</td>\n",
       "      <td>Region Option</td>\n",
       "      <td>NaN</td>\n",
       "    </tr>\n",
       "  </tbody>\n",
       "</table>\n",
       "</div>"
      ],
      "text/plain": [
       "         region                  description         BDC       strategy  \\\n",
       "7299  Southwest            Bulk Tostito 16.0  20050016.0  Region Option   \n",
       "7300  Southwest                  Flush Items  98001001.0  Region Option   \n",
       "7301  Southwest  Food/Service Unflav Ruffles  12050011.0  Region Option   \n",
       "7302  Southwest     LSS Cheddar & SC Ruffles  12010045.0  Region Option   \n",
       "7303  Southwest    LSS Onion Maui Style Chip  30010017.0  Region Option   \n",
       "\n",
       "      pct_stores_carrying  \n",
       "7299                  NaN  \n",
       "7300             0.009259  \n",
       "7301                  NaN  \n",
       "7302                  NaN  \n",
       "7303                  NaN  "
      ]
     },
     "execution_count": 8,
     "metadata": {},
     "output_type": "execute_result"
    }
   ],
   "source": [
    "sw_inno.head()"
   ]
  },
  {
   "cell_type": "code",
   "execution_count": 9,
   "metadata": {},
   "outputs": [
    {
     "data": {
      "text/plain": [
       "array(['Region Option', '(blank)', 'Club Only', 'Ethnic', 'Clip Strip',\n",
       "       'Pallet', 'Shipper', 'In/Out', 'Innovation 2017',\n",
       "       'Innovation 2016', 'Test Market', 'LIO (National)', 'Caddy',\n",
       "       'Stick Strip', 'Stick Strips', 'Regional', 'Innovation 2018',\n",
       "       'Weight Change 2018'], dtype=object)"
      ]
     },
     "execution_count": 9,
     "metadata": {},
     "output_type": "execute_result"
    }
   ],
   "source": [
    "sw_inno['strategy'].unique()\n",
    "# strategy: whether the product is an option chosen for the region, \n",
    "# an innovation, an ethnic product, and in/out (seasonal product), an experimental product, etc."
   ]
  },
  {
   "cell_type": "code",
   "execution_count": 10,
   "metadata": {},
   "outputs": [
    {
     "data": {
      "text/plain": [
       "True"
      ]
     },
     "execution_count": 10,
     "metadata": {},
     "output_type": "execute_result"
    }
   ],
   "source": [
    "len(sw_inno['BDC'].unique()) == len(sw_inno)"
   ]
  },
  {
   "cell_type": "code",
   "execution_count": 11,
   "metadata": {},
   "outputs": [],
   "source": [
    "df_inno = pd.merge(df, sw_inno[['BDC','strategy']], how='left', on=['BDC'])"
   ]
  },
  {
   "cell_type": "code",
   "execution_count": 12,
   "metadata": {},
   "outputs": [
    {
     "data": {
      "text/plain": [
       "BDC                        0\n",
       "sales                      0\n",
       "returns                    0\n",
       "estimated_margins          0\n",
       "platform_capacity          0\n",
       "total_distribution_cost    0\n",
       "profit                     0\n",
       "pc_0.95                    0\n",
       "strategy                   5\n",
       "dtype: int64"
      ]
     },
     "execution_count": 12,
     "metadata": {},
     "output_type": "execute_result"
    }
   ],
   "source": [
    "df_inno.isna().sum() # 5 BDC without strategy data"
   ]
  },
  {
   "cell_type": "code",
   "execution_count": 13,
   "metadata": {},
   "outputs": [],
   "source": [
    "df_inno = df_inno.dropna() # drop BDC with NA"
   ]
  },
  {
   "cell_type": "code",
   "execution_count": 15,
   "metadata": {},
   "outputs": [
    {
     "data": {
      "text/plain": [
       "30"
      ]
     },
     "execution_count": 15,
     "metadata": {},
     "output_type": "execute_result"
    }
   ],
   "source": [
    "len(df_inno[df_inno[\"strategy\"]==\"Innovation 2018\"]) \n",
    "# 30 BDCs are innovation products of 2018 "
   ]
  },
  {
   "cell_type": "code",
   "execution_count": 16,
   "metadata": {},
   "outputs": [],
   "source": [
    "df_inno['innovation'] = np.where(df_inno[\"strategy\"]==\"Innovation 2018\", 1, 0)\n",
    "# creat binary variable for innovation"
   ]
  },
  {
   "cell_type": "code",
   "execution_count": 17,
   "metadata": {},
   "outputs": [
    {
     "data": {
      "text/plain": [
       "474"
      ]
     },
     "execution_count": 17,
     "metadata": {},
     "output_type": "execute_result"
    }
   ],
   "source": [
    "len(df_inno)"
   ]
  },
  {
   "cell_type": "markdown",
   "metadata": {},
   "source": [
    "## Category"
   ]
  },
  {
   "cell_type": "code",
   "execution_count": 18,
   "metadata": {},
   "outputs": [],
   "source": [
    "category = pd.read_csv('sales2018_products.csv.gz')\n",
    "# category_code, category_description, \n",
    "# subcategory_code, subcategory_description: internal classification of products by FritoLay."
   ]
  },
  {
   "cell_type": "code",
   "execution_count": 19,
   "metadata": {},
   "outputs": [
    {
     "data": {
      "text/plain": [
       "array(['OTHER QUAKER - DRY', 'OTHER', 'SINGLE SERVE', 'TORTILLA CHIPS',\n",
       "       'POTATO CHIPS', 'CORN CHIPS', 'CHEESE PUFFS', 'SENSIBLE',\n",
       "       'ALLIED BRANDS', 'BARS', 'CEREALS', 'HOT CEREALS'], dtype=object)"
      ]
     },
     "execution_count": 19,
     "metadata": {},
     "output_type": "execute_result"
    }
   ],
   "source": [
    "category['category_description'].unique()"
   ]
  },
  {
   "cell_type": "code",
   "execution_count": 20,
   "metadata": {},
   "outputs": [
    {
     "data": {
      "text/plain": [
       "array(['GOLDEN GRAIN PASTA', 'OTHER', 'SINGLE SERVE FLEX',\n",
       "       'SINGLE SERVE NON FLE', 'TOSTITOS', 'SANTITAS', 'RUFFLES',\n",
       "       'FRITOS', 'LAYS', 'CHEETOS', 'ROLD GOLD', 'SMARTFOOD', 'DORITO',\n",
       "       'OTHER POTATO CHIPS', \"FL STACY'S\", 'SUNCHIPS', 'BAKENETS',\n",
       "       'MUNCHOS', 'FUNYUNS', 'BAKED', 'CHEWY GRANOLA BARS',\n",
       "       'UNKNOWN SUB CATEGORY', 'CAPTAIN CRUNCH', 'OATS'], dtype=object)"
      ]
     },
     "execution_count": 20,
     "metadata": {},
     "output_type": "execute_result"
    }
   ],
   "source": [
    "category['subcategory_description'].unique()"
   ]
  },
  {
   "cell_type": "code",
   "execution_count": 21,
   "metadata": {},
   "outputs": [
    {
     "data": {
      "text/plain": [
       "12"
      ]
     },
     "execution_count": 21,
     "metadata": {},
     "output_type": "execute_result"
    }
   ],
   "source": [
    "len(category['category_description'].unique()) # 12 categories for all products"
   ]
  },
  {
   "cell_type": "code",
   "execution_count": 22,
   "metadata": {},
   "outputs": [
    {
     "data": {
      "text/plain": [
       "24"
      ]
     },
     "execution_count": 22,
     "metadata": {},
     "output_type": "execute_result"
    }
   ],
   "source": [
    "len(category['subcategory_description'].unique()) # 24 subcategories for all products"
   ]
  },
  {
   "cell_type": "code",
   "execution_count": 23,
   "metadata": {},
   "outputs": [],
   "source": [
    "category = category[['BDC','category_code','subcategory_code']]"
   ]
  },
  {
   "cell_type": "code",
   "execution_count": 24,
   "metadata": {},
   "outputs": [],
   "source": [
    "category = category.groupby(['BDC']).agg({'category_code':'first','subcategory_code':'first'}).reset_index()"
   ]
  },
  {
   "cell_type": "code",
   "execution_count": 25,
   "metadata": {},
   "outputs": [
    {
     "data": {
      "text/plain": [
       "True"
      ]
     },
     "execution_count": 25,
     "metadata": {},
     "output_type": "execute_result"
    }
   ],
   "source": [
    "len(category['BDC'].unique()) == len(category)"
   ]
  },
  {
   "cell_type": "code",
   "execution_count": 26,
   "metadata": {},
   "outputs": [],
   "source": [
    "mid = pd.merge(df_inno[['BDC']], category, how='left', on=['BDC'])"
   ]
  },
  {
   "cell_type": "code",
   "execution_count": 27,
   "metadata": {},
   "outputs": [
    {
     "data": {
      "text/plain": [
       "BDC                 0\n",
       "category_code       0\n",
       "subcategory_code    0\n",
       "dtype: int64"
      ]
     },
     "execution_count": 27,
     "metadata": {},
     "output_type": "execute_result"
    }
   ],
   "source": [
    "mid.isna().sum()"
   ]
  },
  {
   "cell_type": "code",
   "execution_count": 28,
   "metadata": {},
   "outputs": [
    {
     "data": {
      "text/plain": [
       "8"
      ]
     },
     "execution_count": 28,
     "metadata": {},
     "output_type": "execute_result"
    }
   ],
   "source": [
    "len(mid['category_code'].unique()) # only 8 category for input data"
   ]
  },
  {
   "cell_type": "code",
   "execution_count": 38,
   "metadata": {},
   "outputs": [
    {
     "data": {
      "text/plain": [
       "category_code\n",
       "1      74\n",
       "3      64\n",
       "4      13\n",
       "5      17\n",
       "6       5\n",
       "7     133\n",
       "8     159\n",
       "24      9\n",
       "Name: BDC, dtype: int64"
      ]
     },
     "execution_count": 38,
     "metadata": {},
     "output_type": "execute_result"
    }
   ],
   "source": [
    "mid.groupby('category_code')['BDC'].count()"
   ]
  },
  {
   "cell_type": "code",
   "execution_count": 39,
   "metadata": {},
   "outputs": [
    {
     "data": {
      "text/plain": [
       "subcategory_code\n",
       "1      55\n",
       "2      16\n",
       "3       3\n",
       "5      35\n",
       "6      22\n",
       "7       7\n",
       "9      13\n",
       "10     17\n",
       "12      7\n",
       "13     15\n",
       "15    115\n",
       "16     44\n",
       "17     98\n",
       "18      2\n",
       "19      1\n",
       "20      2\n",
       "21     13\n",
       "87      9\n",
       "Name: BDC, dtype: int64"
      ]
     },
     "execution_count": 39,
     "metadata": {},
     "output_type": "execute_result"
    }
   ],
   "source": [
    "mid.groupby('subcategory_code')['BDC'].count()"
   ]
  },
  {
   "cell_type": "code",
   "execution_count": 40,
   "metadata": {},
   "outputs": [
    {
     "data": {
      "text/plain": [
       "18"
      ]
     },
     "execution_count": 40,
     "metadata": {},
     "output_type": "execute_result"
    }
   ],
   "source": [
    "len(mid['subcategory_code'].unique()) # only 18 subcategory for input data"
   ]
  },
  {
   "cell_type": "code",
   "execution_count": 41,
   "metadata": {},
   "outputs": [],
   "source": [
    "BDC_category = mid['category_code'].unique()\n",
    "BDC_subcategory = mid['subcategory_code'].unique()"
   ]
  },
  {
   "cell_type": "code",
   "execution_count": 42,
   "metadata": {},
   "outputs": [],
   "source": [
    "mid = mid.set_index('BDC')"
   ]
  },
  {
   "cell_type": "code",
   "execution_count": 43,
   "metadata": {},
   "outputs": [
    {
     "data": {
      "text/html": [
       "<div>\n",
       "<style scoped>\n",
       "    .dataframe tbody tr th:only-of-type {\n",
       "        vertical-align: middle;\n",
       "    }\n",
       "\n",
       "    .dataframe tbody tr th {\n",
       "        vertical-align: top;\n",
       "    }\n",
       "\n",
       "    .dataframe thead th {\n",
       "        text-align: right;\n",
       "    }\n",
       "</style>\n",
       "<table border=\"1\" class=\"dataframe\">\n",
       "  <thead>\n",
       "    <tr style=\"text-align: right;\">\n",
       "      <th></th>\n",
       "      <th>category_code</th>\n",
       "      <th>subcategory_code</th>\n",
       "    </tr>\n",
       "    <tr>\n",
       "      <th>BDC</th>\n",
       "      <th></th>\n",
       "      <th></th>\n",
       "    </tr>\n",
       "  </thead>\n",
       "  <tbody>\n",
       "    <tr>\n",
       "      <th>1005006</th>\n",
       "      <td>8</td>\n",
       "      <td>15</td>\n",
       "    </tr>\n",
       "    <tr>\n",
       "      <th>1005011</th>\n",
       "      <td>8</td>\n",
       "      <td>15</td>\n",
       "    </tr>\n",
       "    <tr>\n",
       "      <th>1005182</th>\n",
       "      <td>8</td>\n",
       "      <td>15</td>\n",
       "    </tr>\n",
       "    <tr>\n",
       "      <th>1015002</th>\n",
       "      <td>4</td>\n",
       "      <td>9</td>\n",
       "    </tr>\n",
       "    <tr>\n",
       "      <th>1015006</th>\n",
       "      <td>4</td>\n",
       "      <td>9</td>\n",
       "    </tr>\n",
       "  </tbody>\n",
       "</table>\n",
       "</div>"
      ],
      "text/plain": [
       "         category_code  subcategory_code\n",
       "BDC                                     \n",
       "1005006              8                15\n",
       "1005011              8                15\n",
       "1005182              8                15\n",
       "1015002              4                 9\n",
       "1015006              4                 9"
      ]
     },
     "execution_count": 43,
     "metadata": {},
     "output_type": "execute_result"
    }
   ],
   "source": [
    "mid.head()"
   ]
  },
  {
   "cell_type": "code",
   "execution_count": 45,
   "metadata": {},
   "outputs": [],
   "source": [
    "mid.to_excel('mid-process.xlsx')"
   ]
  },
  {
   "cell_type": "code",
   "execution_count": 52,
   "metadata": {},
   "outputs": [],
   "source": [
    "I = mid.index"
   ]
  },
  {
   "cell_type": "code",
   "execution_count": 53,
   "metadata": {},
   "outputs": [],
   "source": [
    "product_category = pd.DataFrame('',index=I,columns=BDC_category)"
   ]
  },
  {
   "cell_type": "code",
   "execution_count": 54,
   "metadata": {},
   "outputs": [],
   "source": [
    "for i in I:\n",
    "    for j in BDC_category:\n",
    "        if mid.loc[i,'category_code']==j:\n",
    "            product_category.loc[i,j] = 1\n",
    "        else:\n",
    "            product_category.loc[i,j] = 0"
   ]
  },
  {
   "cell_type": "code",
   "execution_count": 55,
   "metadata": {},
   "outputs": [],
   "source": [
    "product_subcategory = pd.DataFrame('',index=I,columns=BDC_subcategory)\n",
    "\n",
    "for i in I:\n",
    "    for j in BDC_subcategory:\n",
    "        if mid.loc[i,'subcategory_code']==j:\n",
    "            product_subcategory.loc[i,j] = 1\n",
    "        else:\n",
    "            product_subcategory.loc[i,j] = 0"
   ]
  },
  {
   "cell_type": "code",
   "execution_count": 56,
   "metadata": {},
   "outputs": [
    {
     "data": {
      "text/html": [
       "<div>\n",
       "<style scoped>\n",
       "    .dataframe tbody tr th:only-of-type {\n",
       "        vertical-align: middle;\n",
       "    }\n",
       "\n",
       "    .dataframe tbody tr th {\n",
       "        vertical-align: top;\n",
       "    }\n",
       "\n",
       "    .dataframe thead th {\n",
       "        text-align: right;\n",
       "    }\n",
       "</style>\n",
       "<table border=\"1\" class=\"dataframe\">\n",
       "  <thead>\n",
       "    <tr style=\"text-align: right;\">\n",
       "      <th></th>\n",
       "      <th>8</th>\n",
       "      <th>4</th>\n",
       "      <th>1</th>\n",
       "      <th>5</th>\n",
       "      <th>6</th>\n",
       "      <th>7</th>\n",
       "      <th>3</th>\n",
       "      <th>24</th>\n",
       "    </tr>\n",
       "    <tr>\n",
       "      <th>BDC</th>\n",
       "      <th></th>\n",
       "      <th></th>\n",
       "      <th></th>\n",
       "      <th></th>\n",
       "      <th></th>\n",
       "      <th></th>\n",
       "      <th></th>\n",
       "      <th></th>\n",
       "    </tr>\n",
       "  </thead>\n",
       "  <tbody>\n",
       "    <tr>\n",
       "      <th>1005006</th>\n",
       "      <td>1</td>\n",
       "      <td>0</td>\n",
       "      <td>0</td>\n",
       "      <td>0</td>\n",
       "      <td>0</td>\n",
       "      <td>0</td>\n",
       "      <td>0</td>\n",
       "      <td>0</td>\n",
       "    </tr>\n",
       "    <tr>\n",
       "      <th>1005011</th>\n",
       "      <td>1</td>\n",
       "      <td>0</td>\n",
       "      <td>0</td>\n",
       "      <td>0</td>\n",
       "      <td>0</td>\n",
       "      <td>0</td>\n",
       "      <td>0</td>\n",
       "      <td>0</td>\n",
       "    </tr>\n",
       "    <tr>\n",
       "      <th>1005182</th>\n",
       "      <td>1</td>\n",
       "      <td>0</td>\n",
       "      <td>0</td>\n",
       "      <td>0</td>\n",
       "      <td>0</td>\n",
       "      <td>0</td>\n",
       "      <td>0</td>\n",
       "      <td>0</td>\n",
       "    </tr>\n",
       "    <tr>\n",
       "      <th>1015002</th>\n",
       "      <td>0</td>\n",
       "      <td>1</td>\n",
       "      <td>0</td>\n",
       "      <td>0</td>\n",
       "      <td>0</td>\n",
       "      <td>0</td>\n",
       "      <td>0</td>\n",
       "      <td>0</td>\n",
       "    </tr>\n",
       "    <tr>\n",
       "      <th>1015006</th>\n",
       "      <td>0</td>\n",
       "      <td>1</td>\n",
       "      <td>0</td>\n",
       "      <td>0</td>\n",
       "      <td>0</td>\n",
       "      <td>0</td>\n",
       "      <td>0</td>\n",
       "      <td>0</td>\n",
       "    </tr>\n",
       "  </tbody>\n",
       "</table>\n",
       "</div>"
      ],
      "text/plain": [
       "         8   4   1   5   6   7   3   24\n",
       "BDC                                    \n",
       "1005006   1   0   0   0   0   0   0   0\n",
       "1005011   1   0   0   0   0   0   0   0\n",
       "1005182   1   0   0   0   0   0   0   0\n",
       "1015002   0   1   0   0   0   0   0   0\n",
       "1015006   0   1   0   0   0   0   0   0"
      ]
     },
     "execution_count": 56,
     "metadata": {},
     "output_type": "execute_result"
    }
   ],
   "source": [
    "product_category.head()"
   ]
  },
  {
   "cell_type": "markdown",
   "metadata": {},
   "source": [
    "============================================================================="
   ]
  },
  {
   "cell_type": "code",
   "execution_count": 60,
   "metadata": {},
   "outputs": [],
   "source": [
    "df_inno = df_inno.drop(columns=['profit'])"
   ]
  },
  {
   "cell_type": "code",
   "execution_count": 61,
   "metadata": {},
   "outputs": [
    {
     "data": {
      "text/html": [
       "<div>\n",
       "<style scoped>\n",
       "    .dataframe tbody tr th:only-of-type {\n",
       "        vertical-align: middle;\n",
       "    }\n",
       "\n",
       "    .dataframe tbody tr th {\n",
       "        vertical-align: top;\n",
       "    }\n",
       "\n",
       "    .dataframe thead th {\n",
       "        text-align: right;\n",
       "    }\n",
       "</style>\n",
       "<table border=\"1\" class=\"dataframe\">\n",
       "  <thead>\n",
       "    <tr style=\"text-align: right;\">\n",
       "      <th></th>\n",
       "      <th>BDC</th>\n",
       "      <th>sales</th>\n",
       "      <th>returns</th>\n",
       "      <th>estimated_margins</th>\n",
       "      <th>platform_capacity</th>\n",
       "      <th>total_distribution_cost</th>\n",
       "      <th>pc_0.95</th>\n",
       "      <th>strategy</th>\n",
       "      <th>innovation</th>\n",
       "    </tr>\n",
       "  </thead>\n",
       "  <tbody>\n",
       "    <tr>\n",
       "      <th>0</th>\n",
       "      <td>1005006</td>\n",
       "      <td>162664.580</td>\n",
       "      <td>718.5400</td>\n",
       "      <td>0.15</td>\n",
       "      <td>0.857131</td>\n",
       "      <td>7843.433142</td>\n",
       "      <td>0</td>\n",
       "      <td>Region Option</td>\n",
       "      <td>0</td>\n",
       "    </tr>\n",
       "    <tr>\n",
       "      <th>1</th>\n",
       "      <td>1005011</td>\n",
       "      <td>321341.300</td>\n",
       "      <td>2232.5800</td>\n",
       "      <td>0.15</td>\n",
       "      <td>0.857131</td>\n",
       "      <td>10384.414720</td>\n",
       "      <td>0</td>\n",
       "      <td>Region Option</td>\n",
       "      <td>0</td>\n",
       "    </tr>\n",
       "    <tr>\n",
       "      <th>2</th>\n",
       "      <td>1005182</td>\n",
       "      <td>959710.440</td>\n",
       "      <td>6415.8000</td>\n",
       "      <td>0.15</td>\n",
       "      <td>0.850000</td>\n",
       "      <td>47031.933310</td>\n",
       "      <td>0</td>\n",
       "      <td>Region Option</td>\n",
       "      <td>0</td>\n",
       "    </tr>\n",
       "    <tr>\n",
       "      <th>3</th>\n",
       "      <td>1015002</td>\n",
       "      <td>1822491.590</td>\n",
       "      <td>43770.2240</td>\n",
       "      <td>0.15</td>\n",
       "      <td>0.857131</td>\n",
       "      <td>188365.420300</td>\n",
       "      <td>0</td>\n",
       "      <td>Innovation 2017</td>\n",
       "      <td>0</td>\n",
       "    </tr>\n",
       "    <tr>\n",
       "      <th>4</th>\n",
       "      <td>1015006</td>\n",
       "      <td>5849902.955</td>\n",
       "      <td>39287.3564</td>\n",
       "      <td>0.15</td>\n",
       "      <td>0.857131</td>\n",
       "      <td>228709.662200</td>\n",
       "      <td>0</td>\n",
       "      <td>(blank)</td>\n",
       "      <td>0</td>\n",
       "    </tr>\n",
       "  </tbody>\n",
       "</table>\n",
       "</div>"
      ],
      "text/plain": [
       "       BDC        sales     returns  estimated_margins  platform_capacity  \\\n",
       "0  1005006   162664.580    718.5400               0.15           0.857131   \n",
       "1  1005011   321341.300   2232.5800               0.15           0.857131   \n",
       "2  1005182   959710.440   6415.8000               0.15           0.850000   \n",
       "3  1015002  1822491.590  43770.2240               0.15           0.857131   \n",
       "4  1015006  5849902.955  39287.3564               0.15           0.857131   \n",
       "\n",
       "   total_distribution_cost  pc_0.95         strategy  innovation  \n",
       "0              7843.433142        0    Region Option           0  \n",
       "1             10384.414720        0    Region Option           0  \n",
       "2             47031.933310        0    Region Option           0  \n",
       "3            188365.420300        0  Innovation 2017           0  \n",
       "4            228709.662200        0          (blank)           0  "
      ]
     },
     "execution_count": 61,
     "metadata": {},
     "output_type": "execute_result"
    }
   ],
   "source": [
    "df_inno.head()"
   ]
  },
  {
   "cell_type": "code",
   "execution_count": 62,
   "metadata": {},
   "outputs": [],
   "source": [
    "writer = pd.ExcelWriter('new_input.xlsx')\n",
    "\n",
    "df_inno.to_excel(writer,sheet_name='Profit',index=False)\n",
    "\n",
    "product_category.to_excel(writer,sheet_name='Category')\n",
    "\n",
    "product_subcategory.to_excel(writer,sheet_name='Subcategory')\n",
    "\n",
    "writer.save()"
   ]
  },
  {
   "cell_type": "code",
   "execution_count": null,
   "metadata": {},
   "outputs": [],
   "source": []
  }
 ],
 "metadata": {
  "kernelspec": {
   "display_name": "Python 3",
   "language": "python",
   "name": "python3"
  },
  "language_info": {
   "codemirror_mode": {
    "name": "ipython",
    "version": 3
   },
   "file_extension": ".py",
   "mimetype": "text/x-python",
   "name": "python",
   "nbconvert_exporter": "python",
   "pygments_lexer": "ipython3",
   "version": "3.7.0"
  }
 },
 "nbformat": 4,
 "nbformat_minor": 2
}
