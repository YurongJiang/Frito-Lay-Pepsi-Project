{
 "cells": [
  {
   "cell_type": "code",
   "execution_count": 200,
   "metadata": {},
   "outputs": [],
   "source": [
    "import pandas as pd\n",
    "import seaborn as sns\n",
    "import string as str"
   ]
  },
  {
   "cell_type": "code",
   "execution_count": null,
   "metadata": {},
   "outputs": [],
   "source": [
    "# [margin(em),nasales(s,ret),manufacture(capacity pelnalty),transportation(distcost),innovation,category]"
   ]
  },
  {
   "cell_type": "markdown",
   "metadata": {},
   "source": [
    "### Sales and Return"
   ]
  },
  {
   "cell_type": "code",
   "execution_count": 33,
   "metadata": {},
   "outputs": [],
   "source": [
    "nasales=pd.read_csv('sales2018.csv.gz')"
   ]
  },
  {
   "cell_type": "code",
   "execution_count": 34,
   "metadata": {},
   "outputs": [],
   "source": [
    "margin=pd.read_csv('estimated_margins.csv')\n",
    "#swsales=pd.read_csv('sales2018_SOUTHWEST_deepdive.csv.gz')"
   ]
  },
  {
   "cell_type": "code",
   "execution_count": 35,
   "metadata": {},
   "outputs": [
    {
     "data": {
      "text/html": [
       "<div>\n",
       "<style scoped>\n",
       "    .dataframe tbody tr th:only-of-type {\n",
       "        vertical-align: middle;\n",
       "    }\n",
       "\n",
       "    .dataframe tbody tr th {\n",
       "        vertical-align: top;\n",
       "    }\n",
       "\n",
       "    .dataframe thead th {\n",
       "        text-align: right;\n",
       "    }\n",
       "</style>\n",
       "<table border=\"1\" class=\"dataframe\">\n",
       "  <thead>\n",
       "    <tr style=\"text-align: right;\">\n",
       "      <th></th>\n",
       "      <th>sales_period</th>\n",
       "      <th>region</th>\n",
       "      <th>chain_id</th>\n",
       "      <th>BDC</th>\n",
       "      <th>BDC_description</th>\n",
       "      <th>GTIN</th>\n",
       "      <th>sales</th>\n",
       "      <th>returns</th>\n",
       "    </tr>\n",
       "  </thead>\n",
       "  <tbody>\n",
       "    <tr>\n",
       "      <th>0</th>\n",
       "      <td>1</td>\n",
       "      <td>SOUTHWEST</td>\n",
       "      <td>6.0</td>\n",
       "      <td>2015006</td>\n",
       "      <td>LAY'S XL HON BBQ</td>\n",
       "      <td>28400200684</td>\n",
       "      <td>40.656</td>\n",
       "      <td>0.000</td>\n",
       "    </tr>\n",
       "    <tr>\n",
       "      <th>1</th>\n",
       "      <td>1</td>\n",
       "      <td>SOUTHWEST</td>\n",
       "      <td>6.0</td>\n",
       "      <td>2015009</td>\n",
       "      <td>LAY'S XL KCM</td>\n",
       "      <td>28400199612</td>\n",
       "      <td>269.104</td>\n",
       "      <td>1.936</td>\n",
       "    </tr>\n",
       "    <tr>\n",
       "      <th>2</th>\n",
       "      <td>1</td>\n",
       "      <td>SOUTHWEST</td>\n",
       "      <td>6.0</td>\n",
       "      <td>2015011</td>\n",
       "      <td>LAY'S  XL REG</td>\n",
       "      <td>28400199148</td>\n",
       "      <td>425.920</td>\n",
       "      <td>3.872</td>\n",
       "    </tr>\n",
       "    <tr>\n",
       "      <th>3</th>\n",
       "      <td>1</td>\n",
       "      <td>SOUTHWEST</td>\n",
       "      <td>6.0</td>\n",
       "      <td>2015014</td>\n",
       "      <td>LAY'S XL  REG WAVY</td>\n",
       "      <td>28400043809</td>\n",
       "      <td>7.744</td>\n",
       "      <td>0.000</td>\n",
       "    </tr>\n",
       "    <tr>\n",
       "      <th>4</th>\n",
       "      <td>1</td>\n",
       "      <td>SOUTHWEST</td>\n",
       "      <td>6.0</td>\n",
       "      <td>2015014</td>\n",
       "      <td>LAY'S XL  REG WAVY</td>\n",
       "      <td>28400199544</td>\n",
       "      <td>114.224</td>\n",
       "      <td>5.808</td>\n",
       "    </tr>\n",
       "  </tbody>\n",
       "</table>\n",
       "</div>"
      ],
      "text/plain": [
       "   sales_period     region  chain_id      BDC     BDC_description  \\\n",
       "0             1  SOUTHWEST       6.0  2015006    LAY'S XL HON BBQ   \n",
       "1             1  SOUTHWEST       6.0  2015009        LAY'S XL KCM   \n",
       "2             1  SOUTHWEST       6.0  2015011       LAY'S  XL REG   \n",
       "3             1  SOUTHWEST       6.0  2015014  LAY'S XL  REG WAVY   \n",
       "4             1  SOUTHWEST       6.0  2015014  LAY'S XL  REG WAVY   \n",
       "\n",
       "          GTIN    sales  returns  \n",
       "0  28400200684   40.656    0.000  \n",
       "1  28400199612  269.104    1.936  \n",
       "2  28400199148  425.920    3.872  \n",
       "3  28400043809    7.744    0.000  \n",
       "4  28400199544  114.224    5.808  "
      ]
     },
     "execution_count": 35,
     "metadata": {},
     "output_type": "execute_result"
    }
   ],
   "source": [
    "nasales.head()\n",
    "# sales: total monetary amount sold for this item from this region to this chain during this period, in dollars.\n",
    "# (Certain values are negative, but you should view this as error from the data sanitization.)"
   ]
  },
  {
   "cell_type": "code",
   "execution_count": 31,
   "metadata": {},
   "outputs": [
    {
     "data": {
      "text/plain": [
       "1036"
      ]
     },
     "execution_count": 31,
     "metadata": {},
     "output_type": "execute_result"
    }
   ],
   "source": [
    "len(nasales[nasales[\"region\"]==\"SOUTHWEST\"]['BDC'].unique())"
   ]
  },
  {
   "cell_type": "code",
   "execution_count": 37,
   "metadata": {},
   "outputs": [
    {
     "data": {
      "text/plain": [
       "array([ 1,  2,  3,  4,  5,  6,  7,  8,  9, 10, 11, 12, 13], dtype=int64)"
      ]
     },
     "execution_count": 37,
     "metadata": {},
     "output_type": "execute_result"
    }
   ],
   "source": [
    "nasales['sales_period'].unique()"
   ]
  },
  {
   "cell_type": "code",
   "execution_count": 58,
   "metadata": {},
   "outputs": [
    {
     "data": {
      "text/html": [
       "<div>\n",
       "<style scoped>\n",
       "    .dataframe tbody tr th:only-of-type {\n",
       "        vertical-align: middle;\n",
       "    }\n",
       "\n",
       "    .dataframe tbody tr th {\n",
       "        vertical-align: top;\n",
       "    }\n",
       "\n",
       "    .dataframe thead th {\n",
       "        text-align: right;\n",
       "    }\n",
       "</style>\n",
       "<table border=\"1\" class=\"dataframe\">\n",
       "  <thead>\n",
       "    <tr style=\"text-align: right;\">\n",
       "      <th></th>\n",
       "      <th>sales_period</th>\n",
       "      <th>region</th>\n",
       "      <th>chain_id</th>\n",
       "      <th>BDC</th>\n",
       "      <th>BDC_description</th>\n",
       "      <th>GTIN</th>\n",
       "      <th>sales</th>\n",
       "      <th>returns</th>\n",
       "    </tr>\n",
       "  </thead>\n",
       "  <tbody>\n",
       "    <tr>\n",
       "      <th>54141</th>\n",
       "      <td>1</td>\n",
       "      <td>SOUTHWEST</td>\n",
       "      <td>NaN</td>\n",
       "      <td>1003011</td>\n",
       "      <td>FRITOS LVL REG</td>\n",
       "      <td>28400381611</td>\n",
       "      <td>11.64</td>\n",
       "      <td>0.00</td>\n",
       "    </tr>\n",
       "    <tr>\n",
       "      <th>54961</th>\n",
       "      <td>2</td>\n",
       "      <td>SOUTHWEST</td>\n",
       "      <td>13.0</td>\n",
       "      <td>1003011</td>\n",
       "      <td>FRITOS LVL REG</td>\n",
       "      <td>28400381611</td>\n",
       "      <td>0.00</td>\n",
       "      <td>1.94</td>\n",
       "    </tr>\n",
       "    <tr>\n",
       "      <th>94289</th>\n",
       "      <td>2</td>\n",
       "      <td>SOUTHWEST</td>\n",
       "      <td>13539.0</td>\n",
       "      <td>1003011</td>\n",
       "      <td>FRITOS LVL REG</td>\n",
       "      <td>28400381611</td>\n",
       "      <td>-18.43</td>\n",
       "      <td>0.00</td>\n",
       "    </tr>\n",
       "    <tr>\n",
       "      <th>95267</th>\n",
       "      <td>2</td>\n",
       "      <td>SOUTHWEST</td>\n",
       "      <td>13604.0</td>\n",
       "      <td>1003011</td>\n",
       "      <td>FRITOS LVL REG</td>\n",
       "      <td>28400381611</td>\n",
       "      <td>0.00</td>\n",
       "      <td>0.97</td>\n",
       "    </tr>\n",
       "  </tbody>\n",
       "</table>\n",
       "</div>"
      ],
      "text/plain": [
       "       sales_period     region  chain_id      BDC BDC_description  \\\n",
       "54141             1  SOUTHWEST       NaN  1003011  FRITOS LVL REG   \n",
       "54961             2  SOUTHWEST      13.0  1003011  FRITOS LVL REG   \n",
       "94289             2  SOUTHWEST   13539.0  1003011  FRITOS LVL REG   \n",
       "95267             2  SOUTHWEST   13604.0  1003011  FRITOS LVL REG   \n",
       "\n",
       "              GTIN  sales  returns  \n",
       "54141  28400381611  11.64     0.00  \n",
       "54961  28400381611   0.00     1.94  \n",
       "94289  28400381611 -18.43     0.00  \n",
       "95267  28400381611   0.00     0.97  "
      ]
     },
     "execution_count": 58,
     "metadata": {},
     "output_type": "execute_result"
    }
   ],
   "source": [
    "nasales[(nasales[\"region\"]==\"SOUTHWEST\")&(nasales['BDC']==1003011)]"
   ]
  },
  {
   "cell_type": "code",
   "execution_count": 104,
   "metadata": {},
   "outputs": [
    {
     "data": {
      "text/html": [
       "<div>\n",
       "<style scoped>\n",
       "    .dataframe tbody tr th:only-of-type {\n",
       "        vertical-align: middle;\n",
       "    }\n",
       "\n",
       "    .dataframe tbody tr th {\n",
       "        vertical-align: top;\n",
       "    }\n",
       "\n",
       "    .dataframe thead th {\n",
       "        text-align: right;\n",
       "    }\n",
       "</style>\n",
       "<table border=\"1\" class=\"dataframe\">\n",
       "  <thead>\n",
       "    <tr style=\"text-align: right;\">\n",
       "      <th></th>\n",
       "      <th>sales_period</th>\n",
       "      <th>region</th>\n",
       "      <th>chain_id</th>\n",
       "      <th>BDC</th>\n",
       "      <th>BDC_description</th>\n",
       "      <th>GTIN</th>\n",
       "      <th>sales</th>\n",
       "      <th>returns</th>\n",
       "    </tr>\n",
       "  </thead>\n",
       "  <tbody>\n",
       "    <tr>\n",
       "      <th>5</th>\n",
       "      <td>1</td>\n",
       "      <td>SOUTHWEST</td>\n",
       "      <td>6.0</td>\n",
       "      <td>2015020</td>\n",
       "      <td>LB DUAF XL BAC MAC</td>\n",
       "      <td>28400439381</td>\n",
       "      <td>0.0</td>\n",
       "      <td>1.9360</td>\n",
       "    </tr>\n",
       "    <tr>\n",
       "      <th>15</th>\n",
       "      <td>1</td>\n",
       "      <td>SOUTHWEST</td>\n",
       "      <td>6.0</td>\n",
       "      <td>2015334</td>\n",
       "      <td>LAY XL CHZ GAR BRD</td>\n",
       "      <td>28400212083</td>\n",
       "      <td>0.0</td>\n",
       "      <td>13.5520</td>\n",
       "    </tr>\n",
       "    <tr>\n",
       "      <th>59</th>\n",
       "      <td>1</td>\n",
       "      <td>SOUTHWEST</td>\n",
       "      <td>6.0</td>\n",
       "      <td>14015674</td>\n",
       "      <td>ORGNC TO XL SCPS REG</td>\n",
       "      <td>28400333948</td>\n",
       "      <td>0.0</td>\n",
       "      <td>0.0000</td>\n",
       "    </tr>\n",
       "    <tr>\n",
       "      <th>93</th>\n",
       "      <td>1</td>\n",
       "      <td>SOUTHWEST</td>\n",
       "      <td>6.0</td>\n",
       "      <td>20016517</td>\n",
       "      <td>TOSTIT XXL   FTBL SH</td>\n",
       "      <td>28400001809</td>\n",
       "      <td>0.0</td>\n",
       "      <td>27.0000</td>\n",
       "    </tr>\n",
       "    <tr>\n",
       "      <th>109</th>\n",
       "      <td>1</td>\n",
       "      <td>SOUTHWEST</td>\n",
       "      <td>6.0</td>\n",
       "      <td>1021097</td>\n",
       "      <td>FRITOS SUPER SCOOPS</td>\n",
       "      <td>28400337281</td>\n",
       "      <td>0.0</td>\n",
       "      <td>2.7892</td>\n",
       "    </tr>\n",
       "  </tbody>\n",
       "</table>\n",
       "</div>"
      ],
      "text/plain": [
       "     sales_period     region  chain_id       BDC       BDC_description  \\\n",
       "5               1  SOUTHWEST       6.0   2015020    LB DUAF XL BAC MAC   \n",
       "15              1  SOUTHWEST       6.0   2015334    LAY XL CHZ GAR BRD   \n",
       "59              1  SOUTHWEST       6.0  14015674  ORGNC TO XL SCPS REG   \n",
       "93              1  SOUTHWEST       6.0  20016517  TOSTIT XXL   FTBL SH   \n",
       "109             1  SOUTHWEST       6.0   1021097   FRITOS SUPER SCOOPS   \n",
       "\n",
       "            GTIN  sales  returns  \n",
       "5    28400439381    0.0   1.9360  \n",
       "15   28400212083    0.0  13.5520  \n",
       "59   28400333948    0.0   0.0000  \n",
       "93   28400001809    0.0  27.0000  \n",
       "109  28400337281    0.0   2.7892  "
      ]
     },
     "execution_count": 104,
     "metadata": {},
     "output_type": "execute_result"
    }
   ],
   "source": [
    "nasales[(nasales[\"region\"]==\"SOUTHWEST\")&(nasales['sales']==0)].head()"
   ]
  },
  {
   "cell_type": "code",
   "execution_count": 52,
   "metadata": {},
   "outputs": [],
   "source": [
    "sw_sales = nasales[nasales[\"region\"]==\"SOUTHWEST\"]\\\n",
    ".groupby(['BDC']).agg({'sales':'sum','returns':'sum'}).reset_index()"
   ]
  },
  {
   "cell_type": "code",
   "execution_count": 55,
   "metadata": {},
   "outputs": [],
   "source": [
    "#sw_sales['ret_rate'] = sw_sales['returns']/sw_sales['sales']"
   ]
  },
  {
   "cell_type": "code",
   "execution_count": 76,
   "metadata": {},
   "outputs": [
    {
     "data": {
      "text/html": [
       "<div>\n",
       "<style scoped>\n",
       "    .dataframe tbody tr th:only-of-type {\n",
       "        vertical-align: middle;\n",
       "    }\n",
       "\n",
       "    .dataframe tbody tr th {\n",
       "        vertical-align: top;\n",
       "    }\n",
       "\n",
       "    .dataframe thead th {\n",
       "        text-align: right;\n",
       "    }\n",
       "</style>\n",
       "<table border=\"1\" class=\"dataframe\">\n",
       "  <thead>\n",
       "    <tr style=\"text-align: right;\">\n",
       "      <th></th>\n",
       "      <th>BDC</th>\n",
       "      <th>sales</th>\n",
       "      <th>returns</th>\n",
       "      <th>ret_rate</th>\n",
       "    </tr>\n",
       "  </thead>\n",
       "  <tbody>\n",
       "    <tr>\n",
       "      <th>0</th>\n",
       "      <td>1003007</td>\n",
       "      <td>6503.85</td>\n",
       "      <td>31.04</td>\n",
       "      <td>0.004773</td>\n",
       "    </tr>\n",
       "    <tr>\n",
       "      <th>1</th>\n",
       "      <td>1003011</td>\n",
       "      <td>-6.79</td>\n",
       "      <td>2.91</td>\n",
       "      <td>-0.428571</td>\n",
       "    </tr>\n",
       "    <tr>\n",
       "      <th>2</th>\n",
       "      <td>1005006</td>\n",
       "      <td>162664.58</td>\n",
       "      <td>718.54</td>\n",
       "      <td>0.004417</td>\n",
       "    </tr>\n",
       "    <tr>\n",
       "      <th>3</th>\n",
       "      <td>1005007</td>\n",
       "      <td>1881.45</td>\n",
       "      <td>72.15</td>\n",
       "      <td>0.038348</td>\n",
       "    </tr>\n",
       "    <tr>\n",
       "      <th>4</th>\n",
       "      <td>1005011</td>\n",
       "      <td>321341.30</td>\n",
       "      <td>2232.58</td>\n",
       "      <td>0.006948</td>\n",
       "    </tr>\n",
       "  </tbody>\n",
       "</table>\n",
       "</div>"
      ],
      "text/plain": [
       "       BDC      sales  returns  ret_rate\n",
       "0  1003007    6503.85    31.04  0.004773\n",
       "1  1003011      -6.79     2.91 -0.428571\n",
       "2  1005006  162664.58   718.54  0.004417\n",
       "3  1005007    1881.45    72.15  0.038348\n",
       "4  1005011  321341.30  2232.58  0.006948"
      ]
     },
     "execution_count": 76,
     "metadata": {},
     "output_type": "execute_result"
    }
   ],
   "source": [
    "sw_sales.head() \n",
    "# returns: total monetary amount returned that period because of item expiration. (Fritolay calls these stale items.)"
   ]
  },
  {
   "cell_type": "code",
   "execution_count": 78,
   "metadata": {},
   "outputs": [],
   "source": [
    "sw_sales = sw_sales.drop(columns=['ret_rate']) ## negative sales?"
   ]
  },
  {
   "cell_type": "code",
   "execution_count": 80,
   "metadata": {},
   "outputs": [
    {
     "data": {
      "text/plain": [
       "BDC        57\n",
       "sales      57\n",
       "returns    57\n",
       "dtype: int64"
      ]
     },
     "execution_count": 80,
     "metadata": {},
     "output_type": "execute_result"
    }
   ],
   "source": [
    "sw_sales[sw_sales['sales']<0].count() # 57 negative sales\n",
    "# Certain values are negative, but you should view this as error from the data sanitization."
   ]
  },
  {
   "cell_type": "code",
   "execution_count": 83,
   "metadata": {},
   "outputs": [],
   "source": [
    "sw_sales = sw_sales[sw_sales['sales']>=0].reset_index() # drop negative sales"
   ]
  },
  {
   "cell_type": "code",
   "execution_count": 116,
   "metadata": {},
   "outputs": [
    {
     "data": {
      "text/plain": [
       "979"
      ]
     },
     "execution_count": 116,
     "metadata": {},
     "output_type": "execute_result"
    }
   ],
   "source": [
    "len(sw_sales)"
   ]
  },
  {
   "cell_type": "code",
   "execution_count": 87,
   "metadata": {},
   "outputs": [
    {
     "data": {
      "text/plain": [
       "array([[<matplotlib.axes._subplots.AxesSubplot object at 0x000002BE02A2C630>]],\n",
       "      dtype=object)"
      ]
     },
     "execution_count": 87,
     "metadata": {},
     "output_type": "execute_result"
    },
    {
     "data": {
      "image/png": "[encoded data removed]",
      "text/plain": [
       "<Figure size 432x288 with 1 Axes>"
      ]
     },
     "metadata": {
      "needs_background": "light"
     },
     "output_type": "display_data"
    }
   ],
   "source": [
    "sw_sales.hist(column='sales')"
   ]
  },
  {
   "cell_type": "code",
   "execution_count": 88,
   "metadata": {},
   "outputs": [
    {
     "data": {
      "text/plain": [
       "array([[<matplotlib.axes._subplots.AxesSubplot object at 0x000002BE255442E8>]],\n",
       "      dtype=object)"
      ]
     },
     "execution_count": 88,
     "metadata": {},
     "output_type": "execute_result"
    },
    {
     "data": {
      "image/png": "[encoded data removed]",
      "text/plain": [
       "<Figure size 432x288 with 1 Axes>"
      ]
     },
     "metadata": {
      "needs_background": "light"
     },
     "output_type": "display_data"
    }
   ],
   "source": [
    "sw_sales.hist(column='returns')"
   ]
  },
  {
   "cell_type": "markdown",
   "metadata": {},
   "source": [
    "### Margin"
   ]
  },
  {
   "cell_type": "code",
   "execution_count": 123,
   "metadata": {},
   "outputs": [],
   "source": [
    "margin = margin.groupby(['BDC']).agg({'estimated_margins':'mean'}).reset_index()"
   ]
  },
  {
   "cell_type": "code",
   "execution_count": 135,
   "metadata": {},
   "outputs": [
    {
     "data": {
      "text/html": [
       "<div>\n",
       "<style scoped>\n",
       "    .dataframe tbody tr th:only-of-type {\n",
       "        vertical-align: middle;\n",
       "    }\n",
       "\n",
       "    .dataframe tbody tr th {\n",
       "        vertical-align: top;\n",
       "    }\n",
       "\n",
       "    .dataframe thead th {\n",
       "        text-align: right;\n",
       "    }\n",
       "</style>\n",
       "<table border=\"1\" class=\"dataframe\">\n",
       "  <thead>\n",
       "    <tr style=\"text-align: right;\">\n",
       "      <th></th>\n",
       "      <th>BDC</th>\n",
       "      <th>estimated_margins</th>\n",
       "    </tr>\n",
       "  </thead>\n",
       "  <tbody>\n",
       "    <tr>\n",
       "      <th>0</th>\n",
       "      <td>1003007</td>\n",
       "      <td>0.15</td>\n",
       "    </tr>\n",
       "    <tr>\n",
       "      <th>1</th>\n",
       "      <td>1003011</td>\n",
       "      <td>0.15</td>\n",
       "    </tr>\n",
       "    <tr>\n",
       "      <th>2</th>\n",
       "      <td>1005006</td>\n",
       "      <td>0.15</td>\n",
       "    </tr>\n",
       "    <tr>\n",
       "      <th>3</th>\n",
       "      <td>1005007</td>\n",
       "      <td>0.15</td>\n",
       "    </tr>\n",
       "    <tr>\n",
       "      <th>4</th>\n",
       "      <td>1005011</td>\n",
       "      <td>0.15</td>\n",
       "    </tr>\n",
       "  </tbody>\n",
       "</table>\n",
       "</div>"
      ],
      "text/plain": [
       "       BDC  estimated_margins\n",
       "0  1003007               0.15\n",
       "1  1003011               0.15\n",
       "2  1005006               0.15\n",
       "3  1005007               0.15\n",
       "4  1005011               0.15"
      ]
     },
     "execution_count": 135,
     "metadata": {},
     "output_type": "execute_result"
    }
   ],
   "source": [
    "margin.head()\n",
    "# A very rough estimate of how much profit margins FritoLay has for each product \n",
    "# (which have been altered to product company secrets). \n",
    "# This represents a national average does not account for differential transportation cost in each region."
   ]
  },
  {
   "cell_type": "code",
   "execution_count": 127,
   "metadata": {},
   "outputs": [
    {
     "data": {
      "text/plain": [
       "True"
      ]
     },
     "execution_count": 127,
     "metadata": {},
     "output_type": "execute_result"
    }
   ],
   "source": [
    "len(margin['BDC'].unique()) == len(margin)"
   ]
  },
  {
   "cell_type": "code",
   "execution_count": 140,
   "metadata": {},
   "outputs": [],
   "source": [
    "sales_m = pd.merge(sw_sales, margin,how='left',on=['BDC'])"
   ]
  },
  {
   "cell_type": "code",
   "execution_count": 141,
   "metadata": {},
   "outputs": [
    {
     "data": {
      "text/html": [
       "<div>\n",
       "<style scoped>\n",
       "    .dataframe tbody tr th:only-of-type {\n",
       "        vertical-align: middle;\n",
       "    }\n",
       "\n",
       "    .dataframe tbody tr th {\n",
       "        vertical-align: top;\n",
       "    }\n",
       "\n",
       "    .dataframe thead th {\n",
       "        text-align: right;\n",
       "    }\n",
       "</style>\n",
       "<table border=\"1\" class=\"dataframe\">\n",
       "  <thead>\n",
       "    <tr style=\"text-align: right;\">\n",
       "      <th></th>\n",
       "      <th>index</th>\n",
       "      <th>BDC</th>\n",
       "      <th>sales</th>\n",
       "      <th>returns</th>\n",
       "      <th>estimated_margins</th>\n",
       "    </tr>\n",
       "  </thead>\n",
       "  <tbody>\n",
       "    <tr>\n",
       "      <th>0</th>\n",
       "      <td>0</td>\n",
       "      <td>1003007</td>\n",
       "      <td>6503.85</td>\n",
       "      <td>31.04</td>\n",
       "      <td>0.15</td>\n",
       "    </tr>\n",
       "    <tr>\n",
       "      <th>1</th>\n",
       "      <td>2</td>\n",
       "      <td>1005006</td>\n",
       "      <td>162664.58</td>\n",
       "      <td>718.54</td>\n",
       "      <td>0.15</td>\n",
       "    </tr>\n",
       "    <tr>\n",
       "      <th>2</th>\n",
       "      <td>3</td>\n",
       "      <td>1005007</td>\n",
       "      <td>1881.45</td>\n",
       "      <td>72.15</td>\n",
       "      <td>0.15</td>\n",
       "    </tr>\n",
       "    <tr>\n",
       "      <th>3</th>\n",
       "      <td>4</td>\n",
       "      <td>1005011</td>\n",
       "      <td>321341.30</td>\n",
       "      <td>2232.58</td>\n",
       "      <td>0.15</td>\n",
       "    </tr>\n",
       "    <tr>\n",
       "      <th>4</th>\n",
       "      <td>5</td>\n",
       "      <td>1005182</td>\n",
       "      <td>959710.44</td>\n",
       "      <td>6415.80</td>\n",
       "      <td>0.15</td>\n",
       "    </tr>\n",
       "  </tbody>\n",
       "</table>\n",
       "</div>"
      ],
      "text/plain": [
       "   index      BDC      sales  returns  estimated_margins\n",
       "0      0  1003007    6503.85    31.04               0.15\n",
       "1      2  1005006  162664.58   718.54               0.15\n",
       "2      3  1005007    1881.45    72.15               0.15\n",
       "3      4  1005011  321341.30  2232.58               0.15\n",
       "4      5  1005182  959710.44  6415.80               0.15"
      ]
     },
     "execution_count": 141,
     "metadata": {},
     "output_type": "execute_result"
    }
   ],
   "source": [
    "sales_m.head()"
   ]
  },
  {
   "cell_type": "code",
   "execution_count": 142,
   "metadata": {},
   "outputs": [
    {
     "data": {
      "text/plain": [
       "979"
      ]
     },
     "execution_count": 142,
     "metadata": {},
     "output_type": "execute_result"
    }
   ],
   "source": [
    "len(sales_m['BDC'])"
   ]
  },
  {
   "cell_type": "code",
   "execution_count": 131,
   "metadata": {},
   "outputs": [
    {
     "data": {
      "text/plain": [
       "16"
      ]
     },
     "execution_count": 131,
     "metadata": {},
     "output_type": "execute_result"
    }
   ],
   "source": [
    "sales_m[sales_m['sales']==0]['sales'].count() # 16 sales with 0"
   ]
  },
  {
   "cell_type": "code",
   "execution_count": 133,
   "metadata": {},
   "outputs": [
    {
     "data": {
      "text/plain": [
       "index                 0\n",
       "BDC                   0\n",
       "sales                 0\n",
       "returns               0\n",
       "estimated_margins    34\n",
       "dtype: int64"
      ]
     },
     "execution_count": 133,
     "metadata": {},
     "output_type": "execute_result"
    }
   ],
   "source": [
    "sales_m.isna().sum() ## 34 BDC without estimated margin"
   ]
  },
  {
   "cell_type": "code",
   "execution_count": 155,
   "metadata": {},
   "outputs": [],
   "source": [
    "sales_m = sales_m.dropna()"
   ]
  },
  {
   "cell_type": "code",
   "execution_count": 156,
   "metadata": {},
   "outputs": [
    {
     "data": {
      "text/plain": [
       "945"
      ]
     },
     "execution_count": 156,
     "metadata": {},
     "output_type": "execute_result"
    }
   ],
   "source": [
    "len(sales_m) # drop 34 BDC wiht NA em"
   ]
  },
  {
   "cell_type": "markdown",
   "metadata": {},
   "source": [
    "### Manufacturing Capacity"
   ]
  },
  {
   "cell_type": "code",
   "execution_count": 144,
   "metadata": {},
   "outputs": [],
   "source": [
    "manufacture=pd.read_csv('manufacturing_platform_capacity.csv')"
   ]
  },
  {
   "cell_type": "code",
   "execution_count": 146,
   "metadata": {},
   "outputs": [],
   "source": [
    "manufacture = manufacture.groupby(['BDC']).agg({'platform_capacity':'mean'}).reset_index()"
   ]
  },
  {
   "cell_type": "code",
   "execution_count": 148,
   "metadata": {},
   "outputs": [
    {
     "data": {
      "text/html": [
       "<div>\n",
       "<style scoped>\n",
       "    .dataframe tbody tr th:only-of-type {\n",
       "        vertical-align: middle;\n",
       "    }\n",
       "\n",
       "    .dataframe tbody tr th {\n",
       "        vertical-align: top;\n",
       "    }\n",
       "\n",
       "    .dataframe thead th {\n",
       "        text-align: right;\n",
       "    }\n",
       "</style>\n",
       "<table border=\"1\" class=\"dataframe\">\n",
       "  <thead>\n",
       "    <tr style=\"text-align: right;\">\n",
       "      <th></th>\n",
       "      <th>BDC</th>\n",
       "      <th>platform_capacity</th>\n",
       "    </tr>\n",
       "  </thead>\n",
       "  <tbody>\n",
       "    <tr>\n",
       "      <th>0</th>\n",
       "      <td>1005006</td>\n",
       "      <td>0.857131</td>\n",
       "    </tr>\n",
       "    <tr>\n",
       "      <th>1</th>\n",
       "      <td>1005007</td>\n",
       "      <td>0.857131</td>\n",
       "    </tr>\n",
       "    <tr>\n",
       "      <th>2</th>\n",
       "      <td>1005011</td>\n",
       "      <td>0.857131</td>\n",
       "    </tr>\n",
       "    <tr>\n",
       "      <th>3</th>\n",
       "      <td>1005182</td>\n",
       "      <td>0.850000</td>\n",
       "    </tr>\n",
       "    <tr>\n",
       "      <th>4</th>\n",
       "      <td>1009007</td>\n",
       "      <td>0.857131</td>\n",
       "    </tr>\n",
       "  </tbody>\n",
       "</table>\n",
       "</div>"
      ],
      "text/plain": [
       "       BDC  platform_capacity\n",
       "0  1005006           0.857131\n",
       "1  1005007           0.857131\n",
       "2  1005011           0.857131\n",
       "3  1005182           0.850000\n",
       "4  1009007           0.857131"
      ]
     },
     "execution_count": 148,
     "metadata": {},
     "output_type": "execute_result"
    }
   ],
   "source": [
    "manufacture.head()"
   ]
  },
  {
   "cell_type": "code",
   "execution_count": 149,
   "metadata": {},
   "outputs": [
    {
     "data": {
      "text/plain": [
       "True"
      ]
     },
     "execution_count": 149,
     "metadata": {},
     "output_type": "execute_result"
    }
   ],
   "source": [
    "len(manufacture['BDC'].unique()) == len(manufacture)"
   ]
  },
  {
   "cell_type": "code",
   "execution_count": 157,
   "metadata": {},
   "outputs": [],
   "source": [
    "sales_em_manu = pd.merge(sales_m, manufacture[['BDC','platform_capacity']],on=['BDC'],how='left')"
   ]
  },
  {
   "cell_type": "code",
   "execution_count": 158,
   "metadata": {},
   "outputs": [
    {
     "data": {
      "text/html": [
       "<div>\n",
       "<style scoped>\n",
       "    .dataframe tbody tr th:only-of-type {\n",
       "        vertical-align: middle;\n",
       "    }\n",
       "\n",
       "    .dataframe tbody tr th {\n",
       "        vertical-align: top;\n",
       "    }\n",
       "\n",
       "    .dataframe thead th {\n",
       "        text-align: right;\n",
       "    }\n",
       "</style>\n",
       "<table border=\"1\" class=\"dataframe\">\n",
       "  <thead>\n",
       "    <tr style=\"text-align: right;\">\n",
       "      <th></th>\n",
       "      <th>index</th>\n",
       "      <th>BDC</th>\n",
       "      <th>sales</th>\n",
       "      <th>returns</th>\n",
       "      <th>estimated_margins</th>\n",
       "      <th>platform_capacity</th>\n",
       "    </tr>\n",
       "  </thead>\n",
       "  <tbody>\n",
       "    <tr>\n",
       "      <th>0</th>\n",
       "      <td>0</td>\n",
       "      <td>1003007</td>\n",
       "      <td>6503.85</td>\n",
       "      <td>31.04</td>\n",
       "      <td>0.15</td>\n",
       "      <td>NaN</td>\n",
       "    </tr>\n",
       "    <tr>\n",
       "      <th>1</th>\n",
       "      <td>2</td>\n",
       "      <td>1005006</td>\n",
       "      <td>162664.58</td>\n",
       "      <td>718.54</td>\n",
       "      <td>0.15</td>\n",
       "      <td>0.857131</td>\n",
       "    </tr>\n",
       "    <tr>\n",
       "      <th>2</th>\n",
       "      <td>3</td>\n",
       "      <td>1005007</td>\n",
       "      <td>1881.45</td>\n",
       "      <td>72.15</td>\n",
       "      <td>0.15</td>\n",
       "      <td>0.857131</td>\n",
       "    </tr>\n",
       "    <tr>\n",
       "      <th>3</th>\n",
       "      <td>4</td>\n",
       "      <td>1005011</td>\n",
       "      <td>321341.30</td>\n",
       "      <td>2232.58</td>\n",
       "      <td>0.15</td>\n",
       "      <td>0.857131</td>\n",
       "    </tr>\n",
       "    <tr>\n",
       "      <th>4</th>\n",
       "      <td>5</td>\n",
       "      <td>1005182</td>\n",
       "      <td>959710.44</td>\n",
       "      <td>6415.80</td>\n",
       "      <td>0.15</td>\n",
       "      <td>0.850000</td>\n",
       "    </tr>\n",
       "  </tbody>\n",
       "</table>\n",
       "</div>"
      ],
      "text/plain": [
       "   index      BDC      sales  returns  estimated_margins  platform_capacity\n",
       "0      0  1003007    6503.85    31.04               0.15                NaN\n",
       "1      2  1005006  162664.58   718.54               0.15           0.857131\n",
       "2      3  1005007    1881.45    72.15               0.15           0.857131\n",
       "3      4  1005011  321341.30  2232.58               0.15           0.857131\n",
       "4      5  1005182  959710.44  6415.80               0.15           0.850000"
      ]
     },
     "execution_count": 158,
     "metadata": {},
     "output_type": "execute_result"
    }
   ],
   "source": [
    "sales_em_manu.head()"
   ]
  },
  {
   "cell_type": "code",
   "execution_count": 159,
   "metadata": {},
   "outputs": [
    {
     "data": {
      "text/plain": [
       "index                 0\n",
       "BDC                   0\n",
       "sales                 0\n",
       "returns               0\n",
       "estimated_margins     0\n",
       "platform_capacity    97\n",
       "dtype: int64"
      ]
     },
     "execution_count": 159,
     "metadata": {},
     "output_type": "execute_result"
    }
   ],
   "source": [
    "sales_em_manu.isna().sum() ## 97 without manufacture"
   ]
  },
  {
   "cell_type": "code",
   "execution_count": 167,
   "metadata": {},
   "outputs": [],
   "source": [
    "sales_em_manu = sales_em_manu.dropna()"
   ]
  },
  {
   "cell_type": "code",
   "execution_count": 168,
   "metadata": {},
   "outputs": [
    {
     "data": {
      "text/plain": [
       "848"
      ]
     },
     "execution_count": 168,
     "metadata": {},
     "output_type": "execute_result"
    }
   ],
   "source": [
    "len(sales_em_manu)"
   ]
  },
  {
   "cell_type": "markdown",
   "metadata": {},
   "source": [
    "### transportation"
   ]
  },
  {
   "cell_type": "code",
   "execution_count": 160,
   "metadata": {},
   "outputs": [],
   "source": [
    "transportation=pd.read_excel('distribution_cost_cleaned.xlsx',sheet_name = 'cost_calculations')"
   ]
  },
  {
   "cell_type": "code",
   "execution_count": 164,
   "metadata": {},
   "outputs": [
    {
     "data": {
      "text/html": [
       "<div>\n",
       "<style scoped>\n",
       "    .dataframe tbody tr th:only-of-type {\n",
       "        vertical-align: middle;\n",
       "    }\n",
       "\n",
       "    .dataframe tbody tr th {\n",
       "        vertical-align: top;\n",
       "    }\n",
       "\n",
       "    .dataframe thead th {\n",
       "        text-align: right;\n",
       "    }\n",
       "</style>\n",
       "<table border=\"1\" class=\"dataframe\">\n",
       "  <thead>\n",
       "    <tr style=\"text-align: right;\">\n",
       "      <th></th>\n",
       "      <th>BDC</th>\n",
       "      <th>product_description</th>\n",
       "      <th>department</th>\n",
       "      <th>shape</th>\n",
       "      <th>flavor</th>\n",
       "      <th>product_category</th>\n",
       "      <th>source_LMSID</th>\n",
       "      <th>source_warehouse</th>\n",
       "      <th>source_region</th>\n",
       "      <th>destination_LMSID</th>\n",
       "      <th>...</th>\n",
       "      <th>destination_region</th>\n",
       "      <th>destination_zone</th>\n",
       "      <th>cases_ordered</th>\n",
       "      <th>standard_cases_ordered</th>\n",
       "      <th>transportation_cost_per_standard_case</th>\n",
       "      <th>source_cost_per_case</th>\n",
       "      <th>destination_cost_per_case</th>\n",
       "      <th>total_transportation_cost</th>\n",
       "      <th>total_source_cost</th>\n",
       "      <th>total_destination_cost</th>\n",
       "    </tr>\n",
       "  </thead>\n",
       "  <tbody>\n",
       "    <tr>\n",
       "      <th>0</th>\n",
       "      <td>1003006</td>\n",
       "      <td>LVL Fritos Flavor Twist Honey BBQ</td>\n",
       "      <td>FRIED CORN CHIPS</td>\n",
       "      <td>FRITOS TWIST</td>\n",
       "      <td>FCC-TW HONEY BBQ</td>\n",
       "      <td>FRITOS</td>\n",
       "      <td>6360</td>\n",
       "      <td>KILLINGLY PLANT</td>\n",
       "      <td>NORTHEAST</td>\n",
       "      <td>6360</td>\n",
       "      <td>...</td>\n",
       "      <td>NORTHEAST</td>\n",
       "      <td>Plant to Plant</td>\n",
       "      <td>0.0</td>\n",
       "      <td>0.0000</td>\n",
       "      <td>0.000000</td>\n",
       "      <td>0.324432</td>\n",
       "      <td>0.324432</td>\n",
       "      <td>0.000000</td>\n",
       "      <td>0.000000</td>\n",
       "      <td>0.000000</td>\n",
       "    </tr>\n",
       "    <tr>\n",
       "      <th>1</th>\n",
       "      <td>1003006</td>\n",
       "      <td>LVL Fritos Flavor Twist Honey BBQ</td>\n",
       "      <td>FRIED CORN CHIPS</td>\n",
       "      <td>FRITOS TWIST</td>\n",
       "      <td>FCC-TW HONEY BBQ</td>\n",
       "      <td>FRITOS</td>\n",
       "      <td>4350</td>\n",
       "      <td>CUCAMONGA PLANT</td>\n",
       "      <td>SOUTHWEST</td>\n",
       "      <td>4350</td>\n",
       "      <td>...</td>\n",
       "      <td>SOUTHWEST</td>\n",
       "      <td>Plant to Plant</td>\n",
       "      <td>0.0</td>\n",
       "      <td>0.0000</td>\n",
       "      <td>0.000000</td>\n",
       "      <td>0.483292</td>\n",
       "      <td>0.483292</td>\n",
       "      <td>0.000000</td>\n",
       "      <td>0.000000</td>\n",
       "      <td>0.000000</td>\n",
       "    </tr>\n",
       "    <tr>\n",
       "      <th>2</th>\n",
       "      <td>1003006</td>\n",
       "      <td>LVL Fritos Flavor Twist Honey BBQ</td>\n",
       "      <td>FRIED CORN CHIPS</td>\n",
       "      <td>FRITOS TWIST</td>\n",
       "      <td>FCC-TW HONEY BBQ</td>\n",
       "      <td>FRITOS</td>\n",
       "      <td>4350</td>\n",
       "      <td>CUCAMONGA PLANT</td>\n",
       "      <td>SOUTHWEST</td>\n",
       "      <td>34319</td>\n",
       "      <td>...</td>\n",
       "      <td>SOUTHWEST</td>\n",
       "      <td>Plant to Plant</td>\n",
       "      <td>6776.1</td>\n",
       "      <td>4302.8235</td>\n",
       "      <td>0.471612</td>\n",
       "      <td>0.483292</td>\n",
       "      <td>0.306995</td>\n",
       "      <td>2029.263604</td>\n",
       "      <td>3274.833068</td>\n",
       "      <td>2080.228744</td>\n",
       "    </tr>\n",
       "    <tr>\n",
       "      <th>3</th>\n",
       "      <td>1005006</td>\n",
       "      <td>SVL-R Fritos Honey BBQ Twists</td>\n",
       "      <td>FRIED CORN CHIPS</td>\n",
       "      <td>FRITOS TWIST</td>\n",
       "      <td>FCC-TW HONEY BBQ</td>\n",
       "      <td>FRITOS</td>\n",
       "      <td>7310</td>\n",
       "      <td>CHARLOTTE PLANT</td>\n",
       "      <td>CAROLINAS</td>\n",
       "      <td>7310</td>\n",
       "      <td>...</td>\n",
       "      <td>CAROLINAS</td>\n",
       "      <td>Plant to Plant</td>\n",
       "      <td>0.0</td>\n",
       "      <td>0.0000</td>\n",
       "      <td>0.000000</td>\n",
       "      <td>0.392006</td>\n",
       "      <td>0.392006</td>\n",
       "      <td>0.000000</td>\n",
       "      <td>0.000000</td>\n",
       "      <td>0.000000</td>\n",
       "    </tr>\n",
       "    <tr>\n",
       "      <th>4</th>\n",
       "      <td>1005006</td>\n",
       "      <td>SVL-R Fritos Honey BBQ Twists</td>\n",
       "      <td>FRIED CORN CHIPS</td>\n",
       "      <td>FRITOS TWIST</td>\n",
       "      <td>FCC-TW HONEY BBQ</td>\n",
       "      <td>FRITOS</td>\n",
       "      <td>7310</td>\n",
       "      <td>CHARLOTTE PLANT</td>\n",
       "      <td>CAROLINAS</td>\n",
       "      <td>3942</td>\n",
       "      <td>...</td>\n",
       "      <td>CAROLINAS</td>\n",
       "      <td>CHESAPEAKE</td>\n",
       "      <td>1623.6</td>\n",
       "      <td>1030.9860</td>\n",
       "      <td>0.389854</td>\n",
       "      <td>0.392006</td>\n",
       "      <td>0.400000</td>\n",
       "      <td>401.934210</td>\n",
       "      <td>636.460831</td>\n",
       "      <td>649.440000</td>\n",
       "    </tr>\n",
       "  </tbody>\n",
       "</table>\n",
       "<p>5 rows × 22 columns</p>\n",
       "</div>"
      ],
      "text/plain": [
       "       BDC                product_description        department         shape  \\\n",
       "0  1003006  LVL Fritos Flavor Twist Honey BBQ  FRIED CORN CHIPS  FRITOS TWIST   \n",
       "1  1003006  LVL Fritos Flavor Twist Honey BBQ  FRIED CORN CHIPS  FRITOS TWIST   \n",
       "2  1003006  LVL Fritos Flavor Twist Honey BBQ  FRIED CORN CHIPS  FRITOS TWIST   \n",
       "3  1005006      SVL-R Fritos Honey BBQ Twists  FRIED CORN CHIPS  FRITOS TWIST   \n",
       "4  1005006      SVL-R Fritos Honey BBQ Twists  FRIED CORN CHIPS  FRITOS TWIST   \n",
       "\n",
       "             flavor product_category  source_LMSID source_warehouse  \\\n",
       "0  FCC-TW HONEY BBQ           FRITOS          6360  KILLINGLY PLANT   \n",
       "1  FCC-TW HONEY BBQ           FRITOS          4350  CUCAMONGA PLANT   \n",
       "2  FCC-TW HONEY BBQ           FRITOS          4350  CUCAMONGA PLANT   \n",
       "3  FCC-TW HONEY BBQ           FRITOS          7310  CHARLOTTE PLANT   \n",
       "4  FCC-TW HONEY BBQ           FRITOS          7310  CHARLOTTE PLANT   \n",
       "\n",
       "                    source_region  destination_LMSID           ...            \\\n",
       "0  NORTHEAST                                    6360           ...             \n",
       "1  SOUTHWEST                                    4350           ...             \n",
       "2  SOUTHWEST                                   34319           ...             \n",
       "3  CAROLINAS                                    7310           ...             \n",
       "4  CAROLINAS                                    3942           ...             \n",
       "\n",
       "  destination_region                destination_zone cases_ordered  \\\n",
       "0          NORTHEAST                  Plant to Plant           0.0   \n",
       "1          SOUTHWEST                  Plant to Plant           0.0   \n",
       "2          SOUTHWEST                  Plant to Plant        6776.1   \n",
       "3          CAROLINAS                  Plant to Plant           0.0   \n",
       "4          CAROLINAS  CHESAPEAKE                            1623.6   \n",
       "\n",
       "  standard_cases_ordered  transportation_cost_per_standard_case  \\\n",
       "0                 0.0000                               0.000000   \n",
       "1                 0.0000                               0.000000   \n",
       "2              4302.8235                               0.471612   \n",
       "3                 0.0000                               0.000000   \n",
       "4              1030.9860                               0.389854   \n",
       "\n",
       "   source_cost_per_case  destination_cost_per_case  total_transportation_cost  \\\n",
       "0              0.324432                   0.324432                   0.000000   \n",
       "1              0.483292                   0.483292                   0.000000   \n",
       "2              0.483292                   0.306995                2029.263604   \n",
       "3              0.392006                   0.392006                   0.000000   \n",
       "4              0.392006                   0.400000                 401.934210   \n",
       "\n",
       "   total_source_cost  total_destination_cost  \n",
       "0           0.000000                0.000000  \n",
       "1           0.000000                0.000000  \n",
       "2        3274.833068             2080.228744  \n",
       "3           0.000000                0.000000  \n",
       "4         636.460831              649.440000  \n",
       "\n",
       "[5 rows x 22 columns]"
      ]
     },
     "execution_count": 164,
     "metadata": {},
     "output_type": "execute_result"
    }
   ],
   "source": [
    "transportation.head()\n",
    "# This Excel workbook contains data regarding the cost of transportation of various products from one warehouse to another.\n",
    "# The first worksheet (\"cost_calculations\") combines information all of the other worksheets \n",
    "# and illustrate the relationship."
   ]
  },
  {
   "cell_type": "code",
   "execution_count": 165,
   "metadata": {},
   "outputs": [],
   "source": [
    "sw_tr = transportation[transportation['destination_region']=='SOUTHWEST']"
   ]
  },
  {
   "cell_type": "code",
   "execution_count": 166,
   "metadata": {},
   "outputs": [
    {
     "data": {
      "text/plain": [
       "832"
      ]
     },
     "execution_count": 166,
     "metadata": {},
     "output_type": "execute_result"
    }
   ],
   "source": [
    "len(sw_tr['BDC'].unique())"
   ]
  },
  {
   "cell_type": "code",
   "execution_count": 169,
   "metadata": {},
   "outputs": [
    {
     "data": {
      "text/html": [
       "<div>\n",
       "<style scoped>\n",
       "    .dataframe tbody tr th:only-of-type {\n",
       "        vertical-align: middle;\n",
       "    }\n",
       "\n",
       "    .dataframe tbody tr th {\n",
       "        vertical-align: top;\n",
       "    }\n",
       "\n",
       "    .dataframe thead th {\n",
       "        text-align: right;\n",
       "    }\n",
       "</style>\n",
       "<table border=\"1\" class=\"dataframe\">\n",
       "  <thead>\n",
       "    <tr style=\"text-align: right;\">\n",
       "      <th></th>\n",
       "      <th>BDC</th>\n",
       "      <th>product_description</th>\n",
       "      <th>department</th>\n",
       "      <th>shape</th>\n",
       "      <th>flavor</th>\n",
       "      <th>product_category</th>\n",
       "      <th>source_LMSID</th>\n",
       "      <th>source_warehouse</th>\n",
       "      <th>source_region</th>\n",
       "      <th>destination_LMSID</th>\n",
       "      <th>...</th>\n",
       "      <th>destination_region</th>\n",
       "      <th>destination_zone</th>\n",
       "      <th>cases_ordered</th>\n",
       "      <th>standard_cases_ordered</th>\n",
       "      <th>transportation_cost_per_standard_case</th>\n",
       "      <th>source_cost_per_case</th>\n",
       "      <th>destination_cost_per_case</th>\n",
       "      <th>total_transportation_cost</th>\n",
       "      <th>total_source_cost</th>\n",
       "      <th>total_destination_cost</th>\n",
       "    </tr>\n",
       "  </thead>\n",
       "  <tbody>\n",
       "    <tr>\n",
       "      <th>1</th>\n",
       "      <td>1003006</td>\n",
       "      <td>LVL Fritos Flavor Twist Honey BBQ</td>\n",
       "      <td>FRIED CORN CHIPS</td>\n",
       "      <td>FRITOS TWIST</td>\n",
       "      <td>FCC-TW HONEY BBQ</td>\n",
       "      <td>FRITOS</td>\n",
       "      <td>4350</td>\n",
       "      <td>CUCAMONGA PLANT</td>\n",
       "      <td>SOUTHWEST</td>\n",
       "      <td>4350</td>\n",
       "      <td>...</td>\n",
       "      <td>SOUTHWEST</td>\n",
       "      <td>Plant to Plant</td>\n",
       "      <td>0.0</td>\n",
       "      <td>0.0000</td>\n",
       "      <td>0.000000</td>\n",
       "      <td>0.483292</td>\n",
       "      <td>0.483292</td>\n",
       "      <td>0.000000</td>\n",
       "      <td>0.000000</td>\n",
       "      <td>0.000000</td>\n",
       "    </tr>\n",
       "    <tr>\n",
       "      <th>2</th>\n",
       "      <td>1003006</td>\n",
       "      <td>LVL Fritos Flavor Twist Honey BBQ</td>\n",
       "      <td>FRIED CORN CHIPS</td>\n",
       "      <td>FRITOS TWIST</td>\n",
       "      <td>FCC-TW HONEY BBQ</td>\n",
       "      <td>FRITOS</td>\n",
       "      <td>4350</td>\n",
       "      <td>CUCAMONGA PLANT</td>\n",
       "      <td>SOUTHWEST</td>\n",
       "      <td>34319</td>\n",
       "      <td>...</td>\n",
       "      <td>SOUTHWEST</td>\n",
       "      <td>Plant to Plant</td>\n",
       "      <td>6776.1</td>\n",
       "      <td>4302.8235</td>\n",
       "      <td>0.471612</td>\n",
       "      <td>0.483292</td>\n",
       "      <td>0.306995</td>\n",
       "      <td>2029.263604</td>\n",
       "      <td>3274.833068</td>\n",
       "      <td>2080.228744</td>\n",
       "    </tr>\n",
       "  </tbody>\n",
       "</table>\n",
       "<p>2 rows × 22 columns</p>\n",
       "</div>"
      ],
      "text/plain": [
       "       BDC                product_description        department         shape  \\\n",
       "1  1003006  LVL Fritos Flavor Twist Honey BBQ  FRIED CORN CHIPS  FRITOS TWIST   \n",
       "2  1003006  LVL Fritos Flavor Twist Honey BBQ  FRIED CORN CHIPS  FRITOS TWIST   \n",
       "\n",
       "             flavor product_category  source_LMSID source_warehouse  \\\n",
       "1  FCC-TW HONEY BBQ           FRITOS          4350  CUCAMONGA PLANT   \n",
       "2  FCC-TW HONEY BBQ           FRITOS          4350  CUCAMONGA PLANT   \n",
       "\n",
       "                    source_region  destination_LMSID           ...            \\\n",
       "1  SOUTHWEST                                    4350           ...             \n",
       "2  SOUTHWEST                                   34319           ...             \n",
       "\n",
       "  destination_region destination_zone cases_ordered standard_cases_ordered  \\\n",
       "1          SOUTHWEST   Plant to Plant           0.0                 0.0000   \n",
       "2          SOUTHWEST   Plant to Plant        6776.1              4302.8235   \n",
       "\n",
       "   transportation_cost_per_standard_case  source_cost_per_case  \\\n",
       "1                               0.000000              0.483292   \n",
       "2                               0.471612              0.483292   \n",
       "\n",
       "   destination_cost_per_case  total_transportation_cost  total_source_cost  \\\n",
       "1                   0.483292                   0.000000           0.000000   \n",
       "2                   0.306995                2029.263604        3274.833068   \n",
       "\n",
       "   total_destination_cost  \n",
       "1                0.000000  \n",
       "2             2080.228744  \n",
       "\n",
       "[2 rows x 22 columns]"
      ]
     },
     "execution_count": 169,
     "metadata": {},
     "output_type": "execute_result"
    }
   ],
   "source": [
    "sw_tr[sw_tr['BDC']==1003006]"
   ]
  },
  {
   "cell_type": "code",
   "execution_count": 170,
   "metadata": {},
   "outputs": [],
   "source": [
    "sw_tr = sw_tr.groupby(['BDC']).agg({'total_transportation_cost':'sum',\\\n",
    "                                    'total_source_cost':'sum',\\\n",
    "                                    'total_destination_cost':'sum'}).reset_index()"
   ]
  },
  {
   "cell_type": "code",
   "execution_count": 173,
   "metadata": {},
   "outputs": [],
   "source": [
    "sw_tr['total_distribution_cost'] = sw_tr['total_transportation_cost']+\\\n",
    "                                   sw_tr['total_source_cost']+\\\n",
    "                                   sw_tr['total_destination_cost']"
   ]
  },
  {
   "cell_type": "code",
   "execution_count": 175,
   "metadata": {},
   "outputs": [
    {
     "data": {
      "text/plain": [
       "array([[<matplotlib.axes._subplots.AxesSubplot object at 0x000002BE25DD7A90>]],\n",
       "      dtype=object)"
      ]
     },
     "execution_count": 175,
     "metadata": {},
     "output_type": "execute_result"
    },
    {
     "data": {
      "image/png": "[encoded data removed]",
      "text/plain": [
       "<Figure size 432x288 with 1 Axes>"
      ]
     },
     "metadata": {
      "needs_background": "light"
     },
     "output_type": "display_data"
    }
   ],
   "source": [
    "sw_tr.hist(column='total_distribution_cost') # total for 2018"
   ]
  },
  {
   "cell_type": "code",
   "execution_count": 178,
   "metadata": {},
   "outputs": [],
   "source": [
    "simple = pd.merge(sales_em_manu, sw_tr[['BDC','total_distribution_cost']],on=['BDC'],how='left')"
   ]
  },
  {
   "cell_type": "code",
   "execution_count": 180,
   "metadata": {},
   "outputs": [
    {
     "data": {
      "text/plain": [
       "index                        0\n",
       "BDC                          0\n",
       "sales                        0\n",
       "returns                      0\n",
       "estimated_margins            0\n",
       "platform_capacity            0\n",
       "total_distribution_cost    369\n",
       "dtype: int64"
      ]
     },
     "execution_count": 180,
     "metadata": {},
     "output_type": "execute_result"
    }
   ],
   "source": [
    "simple.isna().sum() # 369 BDC without distribution cost"
   ]
  },
  {
   "cell_type": "code",
   "execution_count": 181,
   "metadata": {},
   "outputs": [],
   "source": [
    "simple = simple.dropna()"
   ]
  },
  {
   "cell_type": "code",
   "execution_count": 182,
   "metadata": {},
   "outputs": [
    {
     "data": {
      "text/plain": [
       "479"
      ]
     },
     "execution_count": 182,
     "metadata": {},
     "output_type": "execute_result"
    }
   ],
   "source": [
    "len(simple)"
   ]
  },
  {
   "cell_type": "code",
   "execution_count": 192,
   "metadata": {},
   "outputs": [],
   "source": [
    "simple['profit'] = (simple['sales']-simple['returns']-simple['total_distribution_cost'])*simple['estimated_margins']"
   ]
  },
  {
   "cell_type": "code",
   "execution_count": 193,
   "metadata": {},
   "outputs": [
    {
     "data": {
      "text/html": [
       "<div>\n",
       "<style scoped>\n",
       "    .dataframe tbody tr th:only-of-type {\n",
       "        vertical-align: middle;\n",
       "    }\n",
       "\n",
       "    .dataframe tbody tr th {\n",
       "        vertical-align: top;\n",
       "    }\n",
       "\n",
       "    .dataframe thead th {\n",
       "        text-align: right;\n",
       "    }\n",
       "</style>\n",
       "<table border=\"1\" class=\"dataframe\">\n",
       "  <thead>\n",
       "    <tr style=\"text-align: right;\">\n",
       "      <th></th>\n",
       "      <th>index</th>\n",
       "      <th>BDC</th>\n",
       "      <th>sales</th>\n",
       "      <th>returns</th>\n",
       "      <th>estimated_margins</th>\n",
       "      <th>platform_capacity</th>\n",
       "      <th>total_distribution_cost</th>\n",
       "      <th>profit</th>\n",
       "    </tr>\n",
       "  </thead>\n",
       "  <tbody>\n",
       "    <tr>\n",
       "      <th>192</th>\n",
       "      <td>232</td>\n",
       "      <td>6015634</td>\n",
       "      <td>11597.5200</td>\n",
       "      <td>93.1040</td>\n",
       "      <td>0.08</td>\n",
       "      <td>0.884683</td>\n",
       "      <td>25661.244336</td>\n",
       "      <td>-1132.546267</td>\n",
       "    </tr>\n",
       "    <tr>\n",
       "      <th>250</th>\n",
       "      <td>301</td>\n",
       "      <td>10045017</td>\n",
       "      <td>637.0272</td>\n",
       "      <td>0.0000</td>\n",
       "      <td>0.10</td>\n",
       "      <td>0.916664</td>\n",
       "      <td>3608.473917</td>\n",
       "      <td>-297.144672</td>\n",
       "    </tr>\n",
       "    <tr>\n",
       "      <th>425</th>\n",
       "      <td>503</td>\n",
       "      <td>16014009</td>\n",
       "      <td>2322.2320</td>\n",
       "      <td>0.0000</td>\n",
       "      <td>0.08</td>\n",
       "      <td>0.916664</td>\n",
       "      <td>14172.781472</td>\n",
       "      <td>-948.043958</td>\n",
       "    </tr>\n",
       "    <tr>\n",
       "      <th>426</th>\n",
       "      <td>504</td>\n",
       "      <td>16014011</td>\n",
       "      <td>2240.9200</td>\n",
       "      <td>0.0000</td>\n",
       "      <td>0.08</td>\n",
       "      <td>0.916664</td>\n",
       "      <td>40204.561867</td>\n",
       "      <td>-3037.091349</td>\n",
       "    </tr>\n",
       "    <tr>\n",
       "      <th>427</th>\n",
       "      <td>505</td>\n",
       "      <td>16014016</td>\n",
       "      <td>2270.9280</td>\n",
       "      <td>0.0000</td>\n",
       "      <td>0.08</td>\n",
       "      <td>0.916664</td>\n",
       "      <td>29243.448710</td>\n",
       "      <td>-2157.801657</td>\n",
       "    </tr>\n",
       "    <tr>\n",
       "      <th>428</th>\n",
       "      <td>506</td>\n",
       "      <td>16014041</td>\n",
       "      <td>2484.8560</td>\n",
       "      <td>0.0000</td>\n",
       "      <td>0.08</td>\n",
       "      <td>0.916664</td>\n",
       "      <td>34506.440661</td>\n",
       "      <td>-2561.726773</td>\n",
       "    </tr>\n",
       "    <tr>\n",
       "      <th>627</th>\n",
       "      <td>733</td>\n",
       "      <td>85004866</td>\n",
       "      <td>0.0000</td>\n",
       "      <td>11.4312</td>\n",
       "      <td>0.13</td>\n",
       "      <td>0.916664</td>\n",
       "      <td>4900.427447</td>\n",
       "      <td>-638.541624</td>\n",
       "    </tr>\n",
       "    <tr>\n",
       "      <th>842</th>\n",
       "      <td>1009</td>\n",
       "      <td>186097022</td>\n",
       "      <td>2280.9600</td>\n",
       "      <td>0.0000</td>\n",
       "      <td>0.08</td>\n",
       "      <td>0.700000</td>\n",
       "      <td>4467.765353</td>\n",
       "      <td>-174.944428</td>\n",
       "    </tr>\n",
       "  </tbody>\n",
       "</table>\n",
       "</div>"
      ],
      "text/plain": [
       "     index        BDC       sales  returns  estimated_margins  \\\n",
       "192    232    6015634  11597.5200  93.1040               0.08   \n",
       "250    301   10045017    637.0272   0.0000               0.10   \n",
       "425    503   16014009   2322.2320   0.0000               0.08   \n",
       "426    504   16014011   2240.9200   0.0000               0.08   \n",
       "427    505   16014016   2270.9280   0.0000               0.08   \n",
       "428    506   16014041   2484.8560   0.0000               0.08   \n",
       "627    733   85004866      0.0000  11.4312               0.13   \n",
       "842   1009  186097022   2280.9600   0.0000               0.08   \n",
       "\n",
       "     platform_capacity  total_distribution_cost       profit  \n",
       "192           0.884683             25661.244336 -1132.546267  \n",
       "250           0.916664              3608.473917  -297.144672  \n",
       "425           0.916664             14172.781472  -948.043958  \n",
       "426           0.916664             40204.561867 -3037.091349  \n",
       "427           0.916664             29243.448710 -2157.801657  \n",
       "428           0.916664             34506.440661 -2561.726773  \n",
       "627           0.916664              4900.427447  -638.541624  \n",
       "842           0.700000              4467.765353  -174.944428  "
      ]
     },
     "execution_count": 193,
     "metadata": {},
     "output_type": "execute_result"
    }
   ],
   "source": [
    "simple[simple['profit']<0]"
   ]
  },
  {
   "cell_type": "code",
   "execution_count": 194,
   "metadata": {},
   "outputs": [
    {
     "data": {
      "text/plain": [
       "array([[<matplotlib.axes._subplots.AxesSubplot object at 0x000002BE21A6AFD0>]],\n",
       "      dtype=object)"
      ]
     },
     "execution_count": 194,
     "metadata": {},
     "output_type": "execute_result"
    },
    {
     "data": {
      "image/png": "[encoded data removed]",
      "text/plain": [
       "<Figure size 432x288 with 1 Axes>"
      ]
     },
     "metadata": {
      "needs_background": "light"
     },
     "output_type": "display_data"
    }
   ],
   "source": [
    "simple.hist(column='profit')"
   ]
  },
  {
   "cell_type": "code",
   "execution_count": 196,
   "metadata": {},
   "outputs": [],
   "source": [
    "simple = simple.drop(columns=['index'])"
   ]
  },
  {
   "cell_type": "code",
   "execution_count": 199,
   "metadata": {},
   "outputs": [],
   "source": [
    "simple.to_csv('simple_input.csv',index=False)"
   ]
  },
  {
   "cell_type": "code",
   "execution_count": null,
   "metadata": {},
   "outputs": [],
   "source": []
  }
 ],
 "metadata": {
  "kernelspec": {
   "display_name": "Python 3",
   "language": "python",
   "name": "python3"
  },
  "language_info": {
   "codemirror_mode": {
    "name": "ipython",
    "version": 3
   },
   "file_extension": ".py",
   "mimetype": "text/x-python",
   "name": "python",
   "nbconvert_exporter": "python",
   "pygments_lexer": "ipython3",
   "version": "3.7.0"
  }
 },
 "nbformat": 4,
 "nbformat_minor": 2
}
