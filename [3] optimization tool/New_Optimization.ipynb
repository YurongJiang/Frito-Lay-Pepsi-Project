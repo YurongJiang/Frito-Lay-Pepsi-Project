{
 "cells": [
  {
   "cell_type": "markdown",
   "metadata": {},
   "source": [
    "## Processing data before optimization"
   ]
  },
  {
   "cell_type": "code",
   "execution_count": 2,
   "metadata": {},
   "outputs": [],
   "source": [
    "import pandas as pd\n",
    "df1 = pd.read_excel('new_input.xlsx',sheet_name='Profit',index_col = 0)\n",
    "df2 = pd.read_excel('new_input.xlsx',sheet_name='Category',index_col = 0)\n",
    "df3 = pd.read_excel('new_input.xlsx',sheet_name='Subcategory',index_col = 0)"
   ]
  },
  {
   "cell_type": "code",
   "execution_count": 3,
   "metadata": {},
   "outputs": [
    {
     "data": {
      "text/html": [
       "<div>\n",
       "<style scoped>\n",
       "    .dataframe tbody tr th:only-of-type {\n",
       "        vertical-align: middle;\n",
       "    }\n",
       "\n",
       "    .dataframe tbody tr th {\n",
       "        vertical-align: top;\n",
       "    }\n",
       "\n",
       "    .dataframe thead th {\n",
       "        text-align: right;\n",
       "    }\n",
       "</style>\n",
       "<table border=\"1\" class=\"dataframe\">\n",
       "  <thead>\n",
       "    <tr style=\"text-align: right;\">\n",
       "      <th></th>\n",
       "      <th>sales</th>\n",
       "      <th>returns</th>\n",
       "      <th>estimated_margins</th>\n",
       "      <th>platform_capacity</th>\n",
       "      <th>total_distribution_cost</th>\n",
       "      <th>pc_0.95</th>\n",
       "      <th>strategy</th>\n",
       "      <th>innovation</th>\n",
       "    </tr>\n",
       "    <tr>\n",
       "      <th>BDC</th>\n",
       "      <th></th>\n",
       "      <th></th>\n",
       "      <th></th>\n",
       "      <th></th>\n",
       "      <th></th>\n",
       "      <th></th>\n",
       "      <th></th>\n",
       "      <th></th>\n",
       "    </tr>\n",
       "  </thead>\n",
       "  <tbody>\n",
       "    <tr>\n",
       "      <th>1005006</th>\n",
       "      <td>162664.580</td>\n",
       "      <td>718.5400</td>\n",
       "      <td>0.15</td>\n",
       "      <td>0.857131</td>\n",
       "      <td>7843.433142</td>\n",
       "      <td>0</td>\n",
       "      <td>Region Option</td>\n",
       "      <td>0</td>\n",
       "    </tr>\n",
       "    <tr>\n",
       "      <th>1005011</th>\n",
       "      <td>321341.300</td>\n",
       "      <td>2232.5800</td>\n",
       "      <td>0.15</td>\n",
       "      <td>0.857131</td>\n",
       "      <td>10384.414720</td>\n",
       "      <td>0</td>\n",
       "      <td>Region Option</td>\n",
       "      <td>0</td>\n",
       "    </tr>\n",
       "    <tr>\n",
       "      <th>1005182</th>\n",
       "      <td>959710.440</td>\n",
       "      <td>6415.8000</td>\n",
       "      <td>0.15</td>\n",
       "      <td>0.850000</td>\n",
       "      <td>47031.933310</td>\n",
       "      <td>0</td>\n",
       "      <td>Region Option</td>\n",
       "      <td>0</td>\n",
       "    </tr>\n",
       "    <tr>\n",
       "      <th>1015002</th>\n",
       "      <td>1822491.590</td>\n",
       "      <td>43770.2240</td>\n",
       "      <td>0.15</td>\n",
       "      <td>0.857131</td>\n",
       "      <td>188365.420300</td>\n",
       "      <td>0</td>\n",
       "      <td>Innovation 2017</td>\n",
       "      <td>0</td>\n",
       "    </tr>\n",
       "    <tr>\n",
       "      <th>1015006</th>\n",
       "      <td>5849902.955</td>\n",
       "      <td>39287.3564</td>\n",
       "      <td>0.15</td>\n",
       "      <td>0.857131</td>\n",
       "      <td>228709.662200</td>\n",
       "      <td>0</td>\n",
       "      <td>(blank)</td>\n",
       "      <td>0</td>\n",
       "    </tr>\n",
       "  </tbody>\n",
       "</table>\n",
       "</div>"
      ],
      "text/plain": [
       "               sales     returns  estimated_margins  platform_capacity  \\\n",
       "BDC                                                                      \n",
       "1005006   162664.580    718.5400               0.15           0.857131   \n",
       "1005011   321341.300   2232.5800               0.15           0.857131   \n",
       "1005182   959710.440   6415.8000               0.15           0.850000   \n",
       "1015002  1822491.590  43770.2240               0.15           0.857131   \n",
       "1015006  5849902.955  39287.3564               0.15           0.857131   \n",
       "\n",
       "         total_distribution_cost  pc_0.95         strategy  innovation  \n",
       "BDC                                                                     \n",
       "1005006              7843.433142        0    Region Option           0  \n",
       "1005011             10384.414720        0    Region Option           0  \n",
       "1005182             47031.933310        0    Region Option           0  \n",
       "1015002            188365.420300        0  Innovation 2017           0  \n",
       "1015006            228709.662200        0          (blank)           0  "
      ]
     },
     "execution_count": 3,
     "metadata": {},
     "output_type": "execute_result"
    }
   ],
   "source": [
    "df1.head()"
   ]
  },
  {
   "cell_type": "code",
   "execution_count": 4,
   "metadata": {},
   "outputs": [
    {
     "data": {
      "text/plain": [
       "array([[<matplotlib.axes._subplots.AxesSubplot object at 0x0000021CDCBE6E80>]],\n",
       "      dtype=object)"
      ]
     },
     "execution_count": 4,
     "metadata": {},
     "output_type": "execute_result"
    }
   ],
   "source": [
    "df1.hist(column='estimated_margins')"
   ]
  },
  {
   "cell_type": "code",
   "execution_count": 5,
   "metadata": {},
   "outputs": [],
   "source": [
    "from sklearn import preprocessing\n",
    "x = df1[['sales','returns','total_distribution_cost']].values\n",
    "min_max_scaler = preprocessing.MinMaxScaler()\n",
    "x_scaled = min_max_scaler.fit_transform(x)"
   ]
  },
  {
   "cell_type": "code",
   "execution_count": 6,
   "metadata": {},
   "outputs": [],
   "source": [
    "#x = df1[['sales','returns','total_distribution_cost']]\n",
    "#for col in x.columns:\n",
    "#    x[col] = (x[col] - x[col].mean())/x[col].std(ddof=1)"
   ]
  },
  {
   "cell_type": "code",
   "execution_count": 7,
   "metadata": {},
   "outputs": [],
   "source": [
    "#x.hist(column='total_distribution_cost')"
   ]
  },
  {
   "cell_type": "code",
   "execution_count": 8,
   "metadata": {},
   "outputs": [],
   "source": [
    "#x.hist(column='sales')"
   ]
  },
  {
   "cell_type": "code",
   "execution_count": 9,
   "metadata": {},
   "outputs": [],
   "source": [
    "df_norm = pd.DataFrame(x_scaled,columns=['sales','returns','total_distribution_cost'],index=df1.index)"
   ]
  },
  {
   "cell_type": "code",
   "execution_count": 10,
   "metadata": {},
   "outputs": [
    {
     "data": {
      "text/plain": [
       "array([[<matplotlib.axes._subplots.AxesSubplot object at 0x0000021CE1ED7710>]],\n",
       "      dtype=object)"
      ]
     },
     "execution_count": 10,
     "metadata": {},
     "output_type": "execute_result"
    },
    {
     "data": {
      "image/png": "[encoded data removed]",
      "text/plain": [
       "<Figure size 432x288 with 1 Axes>"
      ]
     },
     "metadata": {
      "needs_background": "light"
     },
     "output_type": "display_data"
    }
   ],
   "source": [
    "df_norm.hist(column='total_distribution_cost')"
   ]
  },
  {
   "cell_type": "code",
   "execution_count": 11,
   "metadata": {},
   "outputs": [
    {
     "data": {
      "text/plain": [
       "array([[<matplotlib.axes._subplots.AxesSubplot object at 0x0000021CE1F20908>]],\n",
       "      dtype=object)"
      ]
     },
     "execution_count": 11,
     "metadata": {},
     "output_type": "execute_result"
    },
    {
     "data": {
      "image/png": "[encoded data removed]",
      "text/plain": [
       "<Figure size 432x288 with 1 Axes>"
      ]
     },
     "metadata": {
      "needs_background": "light"
     },
     "output_type": "display_data"
    }
   ],
   "source": [
    "df_norm.hist(column='sales')"
   ]
  },
  {
   "cell_type": "code",
   "execution_count": 12,
   "metadata": {},
   "outputs": [
    {
     "data": {
      "text/html": [
       "<div>\n",
       "<style scoped>\n",
       "    .dataframe tbody tr th:only-of-type {\n",
       "        vertical-align: middle;\n",
       "    }\n",
       "\n",
       "    .dataframe tbody tr th {\n",
       "        vertical-align: top;\n",
       "    }\n",
       "\n",
       "    .dataframe thead th {\n",
       "        text-align: right;\n",
       "    }\n",
       "</style>\n",
       "<table border=\"1\" class=\"dataframe\">\n",
       "  <thead>\n",
       "    <tr style=\"text-align: right;\">\n",
       "      <th></th>\n",
       "      <th>sales</th>\n",
       "      <th>returns</th>\n",
       "      <th>total_distribution_cost</th>\n",
       "    </tr>\n",
       "    <tr>\n",
       "      <th>BDC</th>\n",
       "      <th></th>\n",
       "      <th></th>\n",
       "      <th></th>\n",
       "    </tr>\n",
       "  </thead>\n",
       "  <tbody>\n",
       "    <tr>\n",
       "      <th>1005006</th>\n",
       "      <td>0.002476</td>\n",
       "      <td>0.002369</td>\n",
       "      <td>0.003042</td>\n",
       "    </tr>\n",
       "    <tr>\n",
       "      <th>1005011</th>\n",
       "      <td>0.004891</td>\n",
       "      <td>0.007361</td>\n",
       "      <td>0.004028</td>\n",
       "    </tr>\n",
       "    <tr>\n",
       "      <th>1005182</th>\n",
       "      <td>0.014608</td>\n",
       "      <td>0.021152</td>\n",
       "      <td>0.018242</td>\n",
       "    </tr>\n",
       "    <tr>\n",
       "      <th>1015002</th>\n",
       "      <td>0.027740</td>\n",
       "      <td>0.144304</td>\n",
       "      <td>0.073059</td>\n",
       "    </tr>\n",
       "    <tr>\n",
       "      <th>1015006</th>\n",
       "      <td>0.089040</td>\n",
       "      <td>0.129525</td>\n",
       "      <td>0.088707</td>\n",
       "    </tr>\n",
       "  </tbody>\n",
       "</table>\n",
       "</div>"
      ],
      "text/plain": [
       "            sales   returns  total_distribution_cost\n",
       "BDC                                                 \n",
       "1005006  0.002476  0.002369                 0.003042\n",
       "1005011  0.004891  0.007361                 0.004028\n",
       "1005182  0.014608  0.021152                 0.018242\n",
       "1015002  0.027740  0.144304                 0.073059\n",
       "1015006  0.089040  0.129525                 0.088707"
      ]
     },
     "execution_count": 12,
     "metadata": {},
     "output_type": "execute_result"
    }
   ],
   "source": [
    "df_norm.head() "
   ]
  },
  {
   "cell_type": "code",
   "execution_count": 13,
   "metadata": {},
   "outputs": [],
   "source": [
    "#df_norm = x"
   ]
  },
  {
   "cell_type": "code",
   "execution_count": 14,
   "metadata": {},
   "outputs": [],
   "source": [
    "df_norm['margin'] = df1['estimated_margins']\n",
    "df_norm['pc0.95'] = df1['pc_0.95']\n",
    "df_norm['innovation_2018'] = df1['innovation']"
   ]
  },
  {
   "cell_type": "code",
   "execution_count": 15,
   "metadata": {},
   "outputs": [],
   "source": [
    "#df_norm.head()"
   ]
  },
  {
   "cell_type": "code",
   "execution_count": 16,
   "metadata": {},
   "outputs": [],
   "source": [
    "#df_norm=df_norm.drop(columns=['score','innovation2018'])"
   ]
  },
  {
   "cell_type": "code",
   "execution_count": 17,
   "metadata": {},
   "outputs": [],
   "source": [
    "score_weight = pd.DataFrame([1,0.2,0.1,0.1,0.01],\\\n",
    "                            index=['sales (base)',\\\n",
    "                                   'returns (-)',\\\n",
    "                                   'distribution cost (-)',\\\n",
    "                                   'margin (+)',\\\n",
    "                                   'manufacturing capacity (-)'],columns=['weight'])\n",
    "\n",
    "#[0.27,0.32,0.22,0.14,0.05]"
   ]
  },
  {
   "cell_type": "code",
   "execution_count": 18,
   "metadata": {},
   "outputs": [
    {
     "data": {
      "text/html": [
       "<div>\n",
       "<style scoped>\n",
       "    .dataframe tbody tr th:only-of-type {\n",
       "        vertical-align: middle;\n",
       "    }\n",
       "\n",
       "    .dataframe tbody tr th {\n",
       "        vertical-align: top;\n",
       "    }\n",
       "\n",
       "    .dataframe thead th {\n",
       "        text-align: right;\n",
       "    }\n",
       "</style>\n",
       "<table border=\"1\" class=\"dataframe\">\n",
       "  <thead>\n",
       "    <tr style=\"text-align: right;\">\n",
       "      <th></th>\n",
       "      <th>weight</th>\n",
       "    </tr>\n",
       "  </thead>\n",
       "  <tbody>\n",
       "    <tr>\n",
       "      <th>sales (base)</th>\n",
       "      <td>1.00</td>\n",
       "    </tr>\n",
       "    <tr>\n",
       "      <th>returns (-)</th>\n",
       "      <td>0.20</td>\n",
       "    </tr>\n",
       "    <tr>\n",
       "      <th>distribution cost (-)</th>\n",
       "      <td>0.10</td>\n",
       "    </tr>\n",
       "    <tr>\n",
       "      <th>margin (+)</th>\n",
       "      <td>0.10</td>\n",
       "    </tr>\n",
       "    <tr>\n",
       "      <th>manufacturing capacity (-)</th>\n",
       "      <td>0.01</td>\n",
       "    </tr>\n",
       "  </tbody>\n",
       "</table>\n",
       "</div>"
      ],
      "text/plain": [
       "                            weight\n",
       "sales (base)                  1.00\n",
       "returns (-)                   0.20\n",
       "distribution cost (-)         0.10\n",
       "margin (+)                    0.10\n",
       "manufacturing capacity (-)    0.01"
      ]
     },
     "execution_count": 18,
     "metadata": {},
     "output_type": "execute_result"
    }
   ],
   "source": [
    "score_weight"
   ]
  },
  {
   "cell_type": "code",
   "execution_count": 19,
   "metadata": {},
   "outputs": [],
   "source": [
    "df_norm['sample_score'] = score_weight.loc['sales (base)','weight']*df_norm[\"sales\"]\\\n",
    "                          -score_weight.loc['returns (-)','weight']*df_norm['returns']\\\n",
    "                          -score_weight.loc['distribution cost (-)','weight']*df_norm['total_distribution_cost']\\\n",
    "                          +score_weight.loc['margin (+)','weight']*df_norm['margin']\\\n",
    "                          -score_weight.loc['manufacturing capacity (-)','weight']*df_norm['pc0.95']"
   ]
  },
  {
   "cell_type": "code",
   "execution_count": 20,
   "metadata": {
    "scrolled": true
   },
   "outputs": [
    {
     "data": {
      "text/plain": [
       "array([[<matplotlib.axes._subplots.AxesSubplot object at 0x0000021CE1FE9588>]],\n",
       "      dtype=object)"
      ]
     },
     "execution_count": 20,
     "metadata": {},
     "output_type": "execute_result"
    },
    {
     "data": {
      "image/png": "[encoded data removed]",
      "text/plain": [
       "<Figure size 432x288 with 1 Axes>"
      ]
     },
     "metadata": {
      "needs_background": "light"
     },
     "output_type": "display_data"
    }
   ],
   "source": [
    "df_norm.hist(column='sample_score')"
   ]
  },
  {
   "cell_type": "code",
   "execution_count": 21,
   "metadata": {},
   "outputs": [
    {
     "data": {
      "text/html": [
       "<div>\n",
       "<style scoped>\n",
       "    .dataframe tbody tr th:only-of-type {\n",
       "        vertical-align: middle;\n",
       "    }\n",
       "\n",
       "    .dataframe tbody tr th {\n",
       "        vertical-align: top;\n",
       "    }\n",
       "\n",
       "    .dataframe thead th {\n",
       "        text-align: right;\n",
       "    }\n",
       "</style>\n",
       "<table border=\"1\" class=\"dataframe\">\n",
       "  <thead>\n",
       "    <tr style=\"text-align: right;\">\n",
       "      <th></th>\n",
       "      <th>sales</th>\n",
       "      <th>returns</th>\n",
       "      <th>total_distribution_cost</th>\n",
       "      <th>margin</th>\n",
       "      <th>pc0.95</th>\n",
       "      <th>innovation_2018</th>\n",
       "      <th>sample_score</th>\n",
       "    </tr>\n",
       "    <tr>\n",
       "      <th>BDC</th>\n",
       "      <th></th>\n",
       "      <th></th>\n",
       "      <th></th>\n",
       "      <th></th>\n",
       "      <th></th>\n",
       "      <th></th>\n",
       "      <th></th>\n",
       "    </tr>\n",
       "  </thead>\n",
       "  <tbody>\n",
       "    <tr>\n",
       "      <th>1005006</th>\n",
       "      <td>0.002476</td>\n",
       "      <td>0.002369</td>\n",
       "      <td>0.003042</td>\n",
       "      <td>0.15</td>\n",
       "      <td>0</td>\n",
       "      <td>0</td>\n",
       "      <td>0.016698</td>\n",
       "    </tr>\n",
       "    <tr>\n",
       "      <th>1005011</th>\n",
       "      <td>0.004891</td>\n",
       "      <td>0.007361</td>\n",
       "      <td>0.004028</td>\n",
       "      <td>0.15</td>\n",
       "      <td>0</td>\n",
       "      <td>0</td>\n",
       "      <td>0.018016</td>\n",
       "    </tr>\n",
       "    <tr>\n",
       "      <th>1005182</th>\n",
       "      <td>0.014608</td>\n",
       "      <td>0.021152</td>\n",
       "      <td>0.018242</td>\n",
       "      <td>0.15</td>\n",
       "      <td>0</td>\n",
       "      <td>0</td>\n",
       "      <td>0.023553</td>\n",
       "    </tr>\n",
       "    <tr>\n",
       "      <th>1015002</th>\n",
       "      <td>0.027740</td>\n",
       "      <td>0.144304</td>\n",
       "      <td>0.073059</td>\n",
       "      <td>0.15</td>\n",
       "      <td>0</td>\n",
       "      <td>0</td>\n",
       "      <td>0.006573</td>\n",
       "    </tr>\n",
       "    <tr>\n",
       "      <th>1015006</th>\n",
       "      <td>0.089040</td>\n",
       "      <td>0.129525</td>\n",
       "      <td>0.088707</td>\n",
       "      <td>0.15</td>\n",
       "      <td>0</td>\n",
       "      <td>0</td>\n",
       "      <td>0.069265</td>\n",
       "    </tr>\n",
       "  </tbody>\n",
       "</table>\n",
       "</div>"
      ],
      "text/plain": [
       "            sales   returns  total_distribution_cost  margin  pc0.95  \\\n",
       "BDC                                                                    \n",
       "1005006  0.002476  0.002369                 0.003042    0.15       0   \n",
       "1005011  0.004891  0.007361                 0.004028    0.15       0   \n",
       "1005182  0.014608  0.021152                 0.018242    0.15       0   \n",
       "1015002  0.027740  0.144304                 0.073059    0.15       0   \n",
       "1015006  0.089040  0.129525                 0.088707    0.15       0   \n",
       "\n",
       "         innovation_2018  sample_score  \n",
       "BDC                                     \n",
       "1005006                0      0.016698  \n",
       "1005011                0      0.018016  \n",
       "1005182                0      0.023553  \n",
       "1015002                0      0.006573  \n",
       "1015006                0      0.069265  "
      ]
     },
     "execution_count": 21,
     "metadata": {},
     "output_type": "execute_result"
    }
   ],
   "source": [
    "df_norm.head()"
   ]
  },
  {
   "cell_type": "code",
   "execution_count": 22,
   "metadata": {},
   "outputs": [
    {
     "data": {
      "text/plain": [
       "474"
      ]
     },
     "execution_count": 22,
     "metadata": {},
     "output_type": "execute_result"
    }
   ],
   "source": [
    "len(df_norm) # 474 BDC list (no NA value)"
   ]
  },
  {
   "cell_type": "code",
   "execution_count": 70,
   "metadata": {},
   "outputs": [],
   "source": [
    "inno_req = pd.DataFrame([[10,30]],columns=['Innovation Requirement','Max number'])"
   ]
  },
  {
   "cell_type": "code",
   "execution_count": 71,
   "metadata": {},
   "outputs": [
    {
     "data": {
      "text/html": [
       "<div>\n",
       "<style scoped>\n",
       "    .dataframe tbody tr th:only-of-type {\n",
       "        vertical-align: middle;\n",
       "    }\n",
       "\n",
       "    .dataframe tbody tr th {\n",
       "        vertical-align: top;\n",
       "    }\n",
       "\n",
       "    .dataframe thead th {\n",
       "        text-align: right;\n",
       "    }\n",
       "</style>\n",
       "<table border=\"1\" class=\"dataframe\">\n",
       "  <thead>\n",
       "    <tr style=\"text-align: right;\">\n",
       "      <th></th>\n",
       "      <th>Innovation Requirement</th>\n",
       "      <th>Max number</th>\n",
       "    </tr>\n",
       "  </thead>\n",
       "  <tbody>\n",
       "    <tr>\n",
       "      <th>0</th>\n",
       "      <td>10</td>\n",
       "      <td>30</td>\n",
       "    </tr>\n",
       "  </tbody>\n",
       "</table>\n",
       "</div>"
      ],
      "text/plain": [
       "   Innovation Requirement  Max number\n",
       "0                      10          30"
      ]
     },
     "execution_count": 71,
     "metadata": {},
     "output_type": "execute_result"
    }
   ],
   "source": [
    "inno_req"
   ]
  },
  {
   "cell_type": "code",
   "execution_count": 72,
   "metadata": {},
   "outputs": [],
   "source": [
    "mid = pd.read_excel('mid-process.xlsx')"
   ]
  },
  {
   "cell_type": "code",
   "execution_count": 73,
   "metadata": {},
   "outputs": [],
   "source": [
    "max_n = mid.groupby('subcategory_code')['BDC'].count()\n",
    "subcategory_req = pd.DataFrame(max_n)\n",
    "subcategory_req.insert(0, 'Minimum Requirement', 1)\n",
    "subcategory_req.rename(columns={'BDC':'Max number'}, inplace=True)"
   ]
  },
  {
   "cell_type": "code",
   "execution_count": 74,
   "metadata": {},
   "outputs": [],
   "source": [
    "max_n = mid.groupby('category_code')['BDC'].count()"
   ]
  },
  {
   "cell_type": "code",
   "execution_count": 75,
   "metadata": {},
   "outputs": [],
   "source": [
    "category_req = pd.DataFrame(max_n)"
   ]
  },
  {
   "cell_type": "code",
   "execution_count": 76,
   "metadata": {},
   "outputs": [],
   "source": [
    "category_req.insert(0, 'Minimum Requirement', 1)\n",
    "category_req.rename(columns={'BDC':'Max number'}, inplace=True)"
   ]
  },
  {
   "cell_type": "code",
   "execution_count": 77,
   "metadata": {},
   "outputs": [
    {
     "data": {
      "text/html": [
       "<div>\n",
       "<style scoped>\n",
       "    .dataframe tbody tr th:only-of-type {\n",
       "        vertical-align: middle;\n",
       "    }\n",
       "\n",
       "    .dataframe tbody tr th {\n",
       "        vertical-align: top;\n",
       "    }\n",
       "\n",
       "    .dataframe thead th {\n",
       "        text-align: right;\n",
       "    }\n",
       "</style>\n",
       "<table border=\"1\" class=\"dataframe\">\n",
       "  <thead>\n",
       "    <tr style=\"text-align: right;\">\n",
       "      <th></th>\n",
       "      <th>Minimum Requirement</th>\n",
       "      <th>Max number</th>\n",
       "    </tr>\n",
       "    <tr>\n",
       "      <th>category_code</th>\n",
       "      <th></th>\n",
       "      <th></th>\n",
       "    </tr>\n",
       "  </thead>\n",
       "  <tbody>\n",
       "    <tr>\n",
       "      <th>1</th>\n",
       "      <td>1</td>\n",
       "      <td>74</td>\n",
       "    </tr>\n",
       "    <tr>\n",
       "      <th>3</th>\n",
       "      <td>1</td>\n",
       "      <td>64</td>\n",
       "    </tr>\n",
       "    <tr>\n",
       "      <th>4</th>\n",
       "      <td>1</td>\n",
       "      <td>13</td>\n",
       "    </tr>\n",
       "    <tr>\n",
       "      <th>5</th>\n",
       "      <td>1</td>\n",
       "      <td>17</td>\n",
       "    </tr>\n",
       "    <tr>\n",
       "      <th>6</th>\n",
       "      <td>1</td>\n",
       "      <td>5</td>\n",
       "    </tr>\n",
       "    <tr>\n",
       "      <th>7</th>\n",
       "      <td>1</td>\n",
       "      <td>133</td>\n",
       "    </tr>\n",
       "    <tr>\n",
       "      <th>8</th>\n",
       "      <td>1</td>\n",
       "      <td>159</td>\n",
       "    </tr>\n",
       "    <tr>\n",
       "      <th>24</th>\n",
       "      <td>1</td>\n",
       "      <td>9</td>\n",
       "    </tr>\n",
       "  </tbody>\n",
       "</table>\n",
       "</div>"
      ],
      "text/plain": [
       "               Minimum Requirement  Max number\n",
       "category_code                                 \n",
       "1                                1          74\n",
       "3                                1          64\n",
       "4                                1          13\n",
       "5                                1          17\n",
       "6                                1           5\n",
       "7                                1         133\n",
       "8                                1         159\n",
       "24                               1           9"
      ]
     },
     "execution_count": 77,
     "metadata": {},
     "output_type": "execute_result"
    }
   ],
   "source": [
    "category_req"
   ]
  },
  {
   "cell_type": "code",
   "execution_count": 78,
   "metadata": {},
   "outputs": [
    {
     "data": {
      "text/html": [
       "<div>\n",
       "<style scoped>\n",
       "    .dataframe tbody tr th:only-of-type {\n",
       "        vertical-align: middle;\n",
       "    }\n",
       "\n",
       "    .dataframe tbody tr th {\n",
       "        vertical-align: top;\n",
       "    }\n",
       "\n",
       "    .dataframe thead th {\n",
       "        text-align: right;\n",
       "    }\n",
       "</style>\n",
       "<table border=\"1\" class=\"dataframe\">\n",
       "  <thead>\n",
       "    <tr style=\"text-align: right;\">\n",
       "      <th></th>\n",
       "      <th>Minimum Requirement</th>\n",
       "      <th>Max number</th>\n",
       "    </tr>\n",
       "    <tr>\n",
       "      <th>subcategory_code</th>\n",
       "      <th></th>\n",
       "      <th></th>\n",
       "    </tr>\n",
       "  </thead>\n",
       "  <tbody>\n",
       "    <tr>\n",
       "      <th>1</th>\n",
       "      <td>1</td>\n",
       "      <td>55</td>\n",
       "    </tr>\n",
       "    <tr>\n",
       "      <th>2</th>\n",
       "      <td>1</td>\n",
       "      <td>16</td>\n",
       "    </tr>\n",
       "    <tr>\n",
       "      <th>3</th>\n",
       "      <td>1</td>\n",
       "      <td>3</td>\n",
       "    </tr>\n",
       "    <tr>\n",
       "      <th>5</th>\n",
       "      <td>1</td>\n",
       "      <td>35</td>\n",
       "    </tr>\n",
       "    <tr>\n",
       "      <th>6</th>\n",
       "      <td>1</td>\n",
       "      <td>22</td>\n",
       "    </tr>\n",
       "    <tr>\n",
       "      <th>7</th>\n",
       "      <td>1</td>\n",
       "      <td>7</td>\n",
       "    </tr>\n",
       "    <tr>\n",
       "      <th>9</th>\n",
       "      <td>1</td>\n",
       "      <td>13</td>\n",
       "    </tr>\n",
       "    <tr>\n",
       "      <th>10</th>\n",
       "      <td>1</td>\n",
       "      <td>17</td>\n",
       "    </tr>\n",
       "    <tr>\n",
       "      <th>12</th>\n",
       "      <td>1</td>\n",
       "      <td>7</td>\n",
       "    </tr>\n",
       "    <tr>\n",
       "      <th>13</th>\n",
       "      <td>1</td>\n",
       "      <td>15</td>\n",
       "    </tr>\n",
       "    <tr>\n",
       "      <th>15</th>\n",
       "      <td>1</td>\n",
       "      <td>115</td>\n",
       "    </tr>\n",
       "    <tr>\n",
       "      <th>16</th>\n",
       "      <td>1</td>\n",
       "      <td>44</td>\n",
       "    </tr>\n",
       "    <tr>\n",
       "      <th>17</th>\n",
       "      <td>1</td>\n",
       "      <td>98</td>\n",
       "    </tr>\n",
       "    <tr>\n",
       "      <th>18</th>\n",
       "      <td>1</td>\n",
       "      <td>2</td>\n",
       "    </tr>\n",
       "    <tr>\n",
       "      <th>19</th>\n",
       "      <td>1</td>\n",
       "      <td>1</td>\n",
       "    </tr>\n",
       "    <tr>\n",
       "      <th>20</th>\n",
       "      <td>1</td>\n",
       "      <td>2</td>\n",
       "    </tr>\n",
       "    <tr>\n",
       "      <th>21</th>\n",
       "      <td>1</td>\n",
       "      <td>13</td>\n",
       "    </tr>\n",
       "    <tr>\n",
       "      <th>87</th>\n",
       "      <td>1</td>\n",
       "      <td>9</td>\n",
       "    </tr>\n",
       "  </tbody>\n",
       "</table>\n",
       "</div>"
      ],
      "text/plain": [
       "                  Minimum Requirement  Max number\n",
       "subcategory_code                                 \n",
       "1                                   1          55\n",
       "2                                   1          16\n",
       "3                                   1           3\n",
       "5                                   1          35\n",
       "6                                   1          22\n",
       "7                                   1           7\n",
       "9                                   1          13\n",
       "10                                  1          17\n",
       "12                                  1           7\n",
       "13                                  1          15\n",
       "15                                  1         115\n",
       "16                                  1          44\n",
       "17                                  1          98\n",
       "18                                  1           2\n",
       "19                                  1           1\n",
       "20                                  1           2\n",
       "21                                  1          13\n",
       "87                                  1           9"
      ]
     },
     "execution_count": 78,
     "metadata": {},
     "output_type": "execute_result"
    }
   ],
   "source": [
    "subcategory_req"
   ]
  },
  {
   "cell_type": "code",
   "execution_count": 79,
   "metadata": {},
   "outputs": [],
   "source": [
    "writer = pd.ExcelWriter('sample_input.xlsx')\n",
    "\n",
    "df_norm.to_excel(writer,sheet_name='Product')\n",
    "\n",
    "df2.to_excel(writer,sheet_name='Product_Category')\n",
    "\n",
    "df3.to_excel(writer,sheet_name='Product_Subcategory')\n",
    "\n",
    "score_weight.to_excel(writer,sheet_name='score_weight')\n",
    "\n",
    "category_req.to_excel(writer,sheet_name='category_req')\n",
    "\n",
    "subcategory_req.to_excel(writer,sheet_name='subcategory_req')\n",
    "\n",
    "inno_req.to_excel(writer,sheet_name='inno_req',index=False)\n",
    "\n",
    "writer.save()"
   ]
  },
  {
   "cell_type": "markdown",
   "metadata": {},
   "source": [
    "## Optimization tool"
   ]
  },
  {
   "cell_type": "code",
   "execution_count": 9,
   "metadata": {},
   "outputs": [],
   "source": [
    "def optimize(inputfile,outputfile):\n",
    "    \n",
    "    # import packages\n",
    "    import pandas as pd\n",
    "    from gurobipy import Model,GRB\n",
    "    \n",
    "    # read input data\n",
    "    df_norm = pd.read_excel(inputfile,sheet_name='Product',index_col = 0)\n",
    "    df2 = pd.read_excel(inputfile,sheet_name='Product_Category',index_col = 0)\n",
    "    df3 = pd.read_excel(inputfile,sheet_name='Product_Subcategory',index_col = 0)\n",
    "    score_weight = pd.read_excel(inputfile,sheet_name='score_weight',index_col = 0)\n",
    "    category_req = pd.read_excel(inputfile,sheet_name='category_req',index_col = 0)\n",
    "    subcategory_req = pd.read_excel(inputfile,sheet_name='subcategory_req',index_col = 0)\n",
    "    inno_req = pd.read_excel(inputfile,sheet_name='inno_req')\n",
    "    \n",
    "    # calculate product quality score based on the weight assigned by user\n",
    "    df_norm['score'] = score_weight.loc['sales (base)','weight']*df_norm[\"sales\"]\\\n",
    "                          -score_weight.loc['returns (-)','weight']*df_norm['returns']\\\n",
    "                          -score_weight.loc['distribution cost (-)','weight']*df_norm['total_distribution_cost']\\\n",
    "                          +score_weight.loc['margin (+)','weight']*df_norm['margin']\\\n",
    "                          -score_weight.loc['manufacturing capacity (-)','weight']*df_norm['pc0.95']\n",
    "    \n",
    "    # gurobi optimization\n",
    "    mod = Model()\n",
    "\n",
    "    I = df_norm.index\n",
    "    J = df2.columns\n",
    "    K = df3.columns\n",
    "    \n",
    "    # decision variable: whether to select product i\n",
    "    x = mod.addVars(I,vtype = GRB.BINARY)\n",
    "\n",
    "    # maximize product quality score\n",
    "    mod.setObjective(sum(x[i]*df_norm.loc[i,'score'] for i in I),\\\n",
    "                     sense = GRB.MAXIMIZE)\n",
    "    \n",
    "    # small format quantity constraint\n",
    "    mod.addConstr(sum(x[i] for i in I) <= 250)\n",
    "    \n",
    "    # innovation constraint\n",
    "    # include at least #(decided by user) of 2018-innovation products\n",
    "    mod.addConstr(sum(df_norm.loc[i,'innovation_2018']*x[i] for i in I) >= inno_req.loc[0,'Innovation Requirement'])\n",
    "    \n",
    "    # category constraint\n",
    "    # include at least #(decided by user) of products for each category\n",
    "    for j in J:\n",
    "        mod.addConstr(sum(df2.loc[i,j]*x[i] for i in I) >= category_req.loc[j,'Minimum Requirement'])\n",
    "\n",
    "    # subcategory constraint\n",
    "    # include at least #(decided by user) of products for each subcategory\n",
    "    for k in K:\n",
    "        mod.addConstr(sum(df3.loc[i,k]*x[i] for i in I) >= subcategory_req.loc[k,'Minimum Requirement'])\n",
    "\n",
    "    mod.optimize()\n",
    "    \n",
    "    # generate a list of selected product BDC for output\n",
    "    SKU = []\n",
    "    for i in I:\n",
    "        if x[i].x != 0:\n",
    "            SKU.append(i)\n",
    "            \n",
    "    choice = pd.DataFrame(SKU,columns=['BDC'])\n",
    "    \n",
    "    choice.to_excel(outputfile,index=False)\n",
    "    \n",
    "    return mod.objval"
   ]
  },
  {
   "cell_type": "code",
   "execution_count": 10,
   "metadata": {},
   "outputs": [
    {
     "name": "stdout",
     "output_type": "stream",
     "text": [
      "Optimize a model with 28 rows, 474 columns and 1452 nonzeros\n",
      "Variable types: 0 continuous, 474 integer (474 binary)\n",
      "Coefficient statistics:\n",
      "  Matrix range     [1e+00, 1e+00]\n",
      "  Objective range  [9e-05, 8e-01]\n",
      "  Bounds range     [1e+00, 1e+00]\n",
      "  RHS range        [1e+00, 3e+02]\n",
      "Found heuristic solution: objective 16.2865195\n",
      "Presolve removed 11 rows and 39 columns\n",
      "Presolve time: 0.01s\n",
      "Presolved: 17 rows, 435 columns, 898 nonzeros\n",
      "Found heuristic solution: objective 19.1006441\n",
      "Variable types: 0 continuous, 435 integer (435 binary)\n",
      "\n",
      "Root relaxation: objective 2.191201e+01, 4 iterations, 0.00 seconds\n",
      "\n",
      "    Nodes    |    Current Node    |     Objective Bounds      |     Work\n",
      " Expl Unexpl |  Obj  Depth IntInf | Incumbent    BestBd   Gap | It/Node Time\n",
      "\n",
      "*    0     0               0      21.9120127   21.91201  0.00%     -    0s\n",
      "\n",
      "Explored 0 nodes (4 simplex iterations) in 0.02 seconds\n",
      "Thread count was 4 (of 4 available processors)\n",
      "\n",
      "Solution count 3: 21.912 19.1006 16.3854 \n",
      "\n",
      "Optimal solution found (tolerance 1.00e-04)\n",
      "Best objective 2.191201270438e+01, best bound 2.191201270438e+01, gap 0.0000%\n"
     ]
    },
    {
     "data": {
      "text/plain": [
       "21.912012704378707"
      ]
     },
     "execution_count": 10,
     "metadata": {},
     "output_type": "execute_result"
    }
   ],
   "source": [
    "optimize('sample_input.xlsx','sample_output.xlsx')"
   ]
  },
  {
   "cell_type": "code",
   "execution_count": 6,
   "metadata": {},
   "outputs": [],
   "source": [
    "from optimize import optimize"
   ]
  },
  {
   "cell_type": "code",
   "execution_count": 7,
   "metadata": {},
   "outputs": [
    {
     "name": "stdout",
     "output_type": "stream",
     "text": [
      "Optimize a model with 28 rows, 474 columns and 1452 nonzeros\n",
      "Variable types: 0 continuous, 474 integer (474 binary)\n",
      "Coefficient statistics:\n",
      "  Matrix range     [1e+00, 1e+00]\n",
      "  Objective range  [9e-05, 8e-01]\n",
      "  Bounds range     [1e+00, 1e+00]\n",
      "  RHS range        [1e+00, 3e+02]\n",
      "Found heuristic solution: objective 16.2865195\n",
      "Presolve removed 11 rows and 39 columns\n",
      "Presolve time: 0.00s\n",
      "Presolved: 17 rows, 435 columns, 898 nonzeros\n",
      "Found heuristic solution: objective 19.1006441\n",
      "Variable types: 0 continuous, 435 integer (435 binary)\n",
      "\n",
      "Root relaxation: objective 2.191201e+01, 4 iterations, 0.00 seconds\n",
      "\n",
      "    Nodes    |    Current Node    |     Objective Bounds      |     Work\n",
      " Expl Unexpl |  Obj  Depth IntInf | Incumbent    BestBd   Gap | It/Node Time\n",
      "\n",
      "*    0     0               0      21.9120127   21.91201  0.00%     -    0s\n",
      "\n",
      "Explored 0 nodes (4 simplex iterations) in 0.02 seconds\n",
      "Thread count was 4 (of 4 available processors)\n",
      "\n",
      "Solution count 3: 21.912 19.1006 16.3854 \n",
      "\n",
      "Optimal solution found (tolerance 1.00e-04)\n",
      "Best objective 2.191201270438e+01, best bound 2.191201270438e+01, gap 0.0000%\n"
     ]
    }
   ],
   "source": [
    "optimize('sample_input.xlsx','sample_output.xlsx')"
   ]
  },
  {
   "cell_type": "code",
   "execution_count": null,
   "metadata": {},
   "outputs": [],
   "source": []
  }
 ],
 "metadata": {
  "kernelspec": {
   "display_name": "Python 3",
   "language": "python",
   "name": "python3"
  },
  "language_info": {
   "codemirror_mode": {
    "name": "ipython",
    "version": 3
   },
   "file_extension": ".py",
   "mimetype": "text/x-python",
   "name": "python",
   "nbconvert_exporter": "python",
   "pygments_lexer": "ipython3",
   "version": "3.7.0"
  }
 },
 "nbformat": 4,
 "nbformat_minor": 2
}
